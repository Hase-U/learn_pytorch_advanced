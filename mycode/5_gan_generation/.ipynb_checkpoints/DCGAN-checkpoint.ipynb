{
 "cells": [
  {
   "cell_type": "markdown",
   "metadata": {
    "colab_type": "text",
    "id": "Ic1ZfAT4lkK2"
   },
   "source": [
    "# GANによる画像生成のメカニズムとDCGANの実装\n",
    "\n",
    "commit用\n",
    "\n",
    "```mycode/5_gan_generation/```"
   ]
  },
  {
   "cell_type": "code",
   "execution_count": 5,
   "metadata": {
    "colab": {
     "base_uri": "https://localhost:8080/",
     "height": 51
    },
    "colab_type": "code",
    "id": "er8sVf8Okg-z",
    "outputId": "c23fedf9-eaea-4f92-c2fd-9028db704ac4",
    "scrolled": false
   },
   "outputs": [
    {
     "name": "stdout",
     "output_type": "stream",
     "text": [
      "scikit-image           0.16.2             \r\n",
      "scikit-learn           0.22.2.post1       \r\n"
     ]
    }
   ],
   "source": [
    "!pip list | grep scikit"
   ]
  },
  {
   "cell_type": "code",
   "execution_count": 7,
   "metadata": {},
   "outputs": [
    {
     "name": "stdout",
     "output_type": "stream",
     "text": [
      "\u001b[1m\u001b[37ms2                 \u001b[m  Mon Apr 13 23:21:06 2020  \u001b[1m\u001b[30m440.44\u001b[m\r\n",
      "\u001b[36m[0]\u001b[m \u001b[34mQuadro RTX 8000 \u001b[m |\u001b[1m\u001b[31m 64'C\u001b[m, \u001b[1m\u001b[32m 83 %\u001b[m | \u001b[36m\u001b[1m\u001b[33m11911\u001b[m / \u001b[33m48601\u001b[m MB | \u001b[1m\u001b[30mtaoli\u001b[m(\u001b[33m10429M\u001b[m) \u001b[1m\u001b[30mkera\u001b[m(\u001b[33m733M\u001b[m) \u001b[1m\u001b[30mkera\u001b[m(\u001b[33m733M\u001b[m)\r\n",
      "\u001b[36m[1]\u001b[m \u001b[34mQuadro RTX 8000 \u001b[m |\u001b[31m 26'C\u001b[m, \u001b[32m  0 %\u001b[m | \u001b[36m\u001b[1m\u001b[33m   12\u001b[m / \u001b[33m48601\u001b[m MB |\r\n",
      "\u001b[36m[2]\u001b[m \u001b[34mQuadro RTX 8000 \u001b[m |\u001b[1m\u001b[31m 67'C\u001b[m, \u001b[1m\u001b[32m100 %\u001b[m | \u001b[36m\u001b[1m\u001b[33m17045\u001b[m / \u001b[33m48601\u001b[m MB | \u001b[1m\u001b[30mtaoli\u001b[m(\u001b[33m17031M\u001b[m)\r\n",
      "\u001b[36m[3]\u001b[m \u001b[34mQuadro RTX 8000 \u001b[m |\u001b[1m\u001b[31m 63'C\u001b[m, \u001b[1m\u001b[32m 81 %\u001b[m | \u001b[36m\u001b[1m\u001b[33m22401\u001b[m / \u001b[33m48601\u001b[m MB | \u001b[1m\u001b[30mtaoli\u001b[m(\u001b[33m22385M\u001b[m)\r\n",
      "\u001b[36m[4]\u001b[m \u001b[34mQuadro RTX 8000 \u001b[m |\u001b[1m\u001b[31m 54'C\u001b[m, \u001b[32m  0 %\u001b[m | \u001b[36m\u001b[1m\u001b[33m 8859\u001b[m / \u001b[33m48601\u001b[m MB | \u001b[1m\u001b[30mhara\u001b[m(\u001b[33m8847M\u001b[m)\r\n",
      "\u001b[36m[5]\u001b[m \u001b[34mQuadro RTX 8000 \u001b[m |\u001b[1m\u001b[31m 64'C\u001b[m, \u001b[1m\u001b[32m 96 %\u001b[m | \u001b[36m\u001b[1m\u001b[33m29181\u001b[m / \u001b[33m48601\u001b[m MB | \u001b[1m\u001b[30mtaoli\u001b[m(\u001b[33m29165M\u001b[m)\r\n",
      "\u001b[36m[6]\u001b[m \u001b[34mQuadro RTX 8000 \u001b[m |\u001b[1m\u001b[31m 61'C\u001b[m, \u001b[1m\u001b[32m 93 %\u001b[m | \u001b[36m\u001b[1m\u001b[33m 6327\u001b[m / \u001b[33m48601\u001b[m MB | \u001b[1m\u001b[30mtaoli\u001b[m(\u001b[33m6313M\u001b[m)\r\n",
      "\u001b[36m[7]\u001b[m \u001b[34mQuadro RTX 8000 \u001b[m |\u001b[1m\u001b[31m 64'C\u001b[m, \u001b[1m\u001b[32m100 %\u001b[m | \u001b[36m\u001b[1m\u001b[33m16319\u001b[m / \u001b[33m48601\u001b[m MB | \u001b[1m\u001b[30mtaoli\u001b[m(\u001b[33m16305M\u001b[m)\r\n"
     ]
    }
   ],
   "source": [
    "!gpustat"
   ]
  },
  {
   "cell_type": "code",
   "execution_count": 9,
   "metadata": {},
   "outputs": [],
   "source": [
    "import os\n",
    "os.environ[\"CUDA_VISIBLE_DEVICES\"]=\"1\""
   ]
  },
  {
   "cell_type": "markdown",
   "metadata": {
    "colab_type": "text",
    "id": "SrYlKuSZmHW9"
   },
   "source": [
    "## 5-1 GANによる画像生成のメカニズムとDCGANの実装"
   ]
  },
  {
   "cell_type": "markdown",
   "metadata": {
    "colab": {},
    "colab_type": "code",
    "id": "Qr6vMWVtljod"
   },
   "source": [
    "### Generatorのメカニズム\n",
    "Generatorは入力乱数から目的の画像を生成するのでデータの次元を拡大していく必要がある．\n",
    "このときに重要になるのが"
   ]
  },
  {
   "cell_type": "code",
   "execution_count": null,
   "metadata": {
    "colab": {},
    "colab_type": "code",
    "id": "HPFI1sfImEDL"
   },
   "outputs": [],
   "source": []
  },
  {
   "cell_type": "code",
   "execution_count": 0,
   "metadata": {
    "colab": {},
    "colab_type": "code",
    "id": "q9Na1DYklKjU"
   },
   "outputs": [],
   "source": []
  }
 ],
 "metadata": {
  "colab": {
   "authorship_tag": "ABX9TyObzXzQHD98btbBTu8+3u3s",
   "name": "DCGAN.ipynb",
   "provenance": []
  },
  "kernelspec": {
   "display_name": "Python 3",
   "language": "python",
   "name": "python3"
  },
  "language_info": {
   "codemirror_mode": {
    "name": "ipython",
    "version": 3
   },
   "file_extension": ".py",
   "mimetype": "text/x-python",
   "name": "python",
   "nbconvert_exporter": "python",
   "pygments_lexer": "ipython3",
   "version": "3.7.6"
  }
 },
 "nbformat": 4,
 "nbformat_minor": 1
}
