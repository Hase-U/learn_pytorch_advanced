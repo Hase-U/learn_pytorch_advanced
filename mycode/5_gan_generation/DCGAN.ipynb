{
 "cells": [
  {
   "cell_type": "markdown",
   "metadata": {
    "colab_type": "text",
    "id": "Ic1ZfAT4lkK2"
   },
   "source": [
    "# GANによる画像生成のメカニズムとDCGANの実装\n",
    "\n",
    "commit用\n",
    "\n",
    "```mycode/5_gan_generation/```"
   ]
  },
  {
   "cell_type": "code",
   "execution_count": 1,
   "metadata": {
    "colab": {
     "base_uri": "https://localhost:8080/",
     "height": 51
    },
    "colab_type": "code",
    "id": "er8sVf8Okg-z",
    "outputId": "c23fedf9-eaea-4f92-c2fd-9028db704ac4",
    "scrolled": false
   },
   "outputs": [
    {
     "name": "stdout",
     "output_type": "stream",
     "text": [
      "scikit-image                            0.15.0             \r\n",
      "scikit-learn                            0.21.3             \r\n"
     ]
    }
   ],
   "source": [
    "!pip list | grep scikit"
   ]
  },
  {
   "cell_type": "code",
   "execution_count": 2,
   "metadata": {},
   "outputs": [
    {
     "name": "stdout",
     "output_type": "stream",
     "text": [
      "/bin/sh: gpustat: command not found\r\n"
     ]
    }
   ],
   "source": [
    "!gpustat"
   ]
  },
  {
   "cell_type": "code",
   "execution_count": 3,
   "metadata": {},
   "outputs": [],
   "source": [
    "import os\n",
    "os.environ[\"CUDA_VISIBLE_DEVICES\"]=\"1\""
   ]
  },
  {
   "cell_type": "code",
   "execution_count": 4,
   "metadata": {},
   "outputs": [],
   "source": [
    "# パッケージのimport\n",
    "import random\n",
    "import math\n",
    "import time\n",
    "import pandas as pd\n",
    "import numpy as np\n",
    "from PIL import Image\n",
    "\n",
    "import torch\n",
    "import torch.utils.data as data\n",
    "import torch.nn as nn\n",
    "import torch.nn.functional as F\n",
    "import torch.optim as optim\n",
    "\n",
    "from torchvision import transforms\n",
    "%config IPCompleter.greedy=True"
   ]
  },
  {
   "cell_type": "markdown",
   "metadata": {
    "colab_type": "text",
    "id": "SrYlKuSZmHW9"
   },
   "source": [
    "## 5-1 GANによる画像生成のメカニズムとDCGANの実装"
   ]
  },
  {
   "cell_type": "markdown",
   "metadata": {
    "colab": {},
    "colab_type": "code",
    "id": "Qr6vMWVtljod"
   },
   "source": [
    "### Generatorのメカニズム\n",
    "Generatorは入力乱数から目的の画像を生成するのでデータの次元を拡大していく必要がある．\n",
    "このときに重要になるのが**転置畳み込み**である．\n",
    "普通の畳み込みは入力データの全てのセルとカーネルの全てのセルの計算結果を集約して１つのセルにするのに対して，転置畳み込みは１つの入力セルに対して全てのカーネルのセルを作用させてその１つ１つを出力とするので結果として出力されるデータの次元は大きくなる．"
   ]
  },
  {
   "cell_type": "markdown",
   "metadata": {},
   "source": [
    "### Generatorの実装\n",
    "本節ではGANの中でも特に**DCGAN**と呼ばれるものを実装する．\n",
    "\n",
    "***DCGAN：***Deep Convolution Generative Adversarial Network\n",
    "\n",
    "実装に当たって入力する乱数の次元を```z_dim=20```にしてるがこれには特に意味はなく，生成画像の多様性が担保されればなんでも良い\n"
   ]
  },
  {
   "cell_type": "code",
   "execution_count": 5,
   "metadata": {
    "colab": {},
    "colab_type": "code",
    "id": "HPFI1sfImEDL"
   },
   "outputs": [],
   "source": [
    "class Generator(nn.Module):\n",
    "    \n",
    "    def __init__(self, z_dim = 20, image_size=64):\n",
    "        super(Generator, self).__init__()\n",
    "        \n",
    "        # ここで out_channels = image_size*8に特別な意味は？\n",
    "        self.layer1 = nn.Sequential(\n",
    "            nn.ConvTranspose2d(z_dim, image_size*8, kernel_size=4, stride=1),\n",
    "            nn.BatchNorm2d(image_size*8),\n",
    "            nn.ReLU(inplace=True))\n",
    "        \n",
    "        self.layer2 = nn.Sequential(\n",
    "            nn.ConvTranspose2d(image_size*8, image_size*4, kernel_size=4, stride=2, padding=1),\n",
    "            nn.BatchNorm2d(image_size*4),\n",
    "            nn.ReLU(inplace=True))\n",
    "            \n",
    "        self.layer2 = nn.Sequential(\n",
    "            nn.ConvTranspose2d(image_size*8, image_size*4, kernel_size=4, stride=2, padding=1),\n",
    "            nn.BatchNorm2d(image_size*4),\n",
    "            nn.ReLU(inplace=True))\n",
    "        \n",
    "        self.layer3 = nn.Sequential(\n",
    "            nn.ConvTranspose2d(image_size*4, image_size*2, kernel_size=4, stride=2, padding=1),\n",
    "            nn.BatchNorm2d(image_size*2),\n",
    "            nn.ReLU(inplace=True))\n",
    "              \n",
    "        self.layer4 = nn.Sequential(\n",
    "            nn.ConvTranspose2d(image_size*2, image_size, kernel_size=4, stride=2, padding=1),\n",
    "            nn.BatchNorm2d(image_size),\n",
    "            nn.ReLU(inplace=True))\n",
    "        \n",
    "        self.last = nn.Sequential(\n",
    "            nn.ConvTranspose2d(image_size, 1, kernel_size=4, stride=2, padding=1),\n",
    "            nn.Tanh())\n",
    "        # 白黒なので出力は1チャネル\n",
    "        \n",
    "        \n",
    "    def forward(self, z):\n",
    "        out = self.layer1(z)\n",
    "        out = self.layer2(out)\n",
    "        out = self.layer3(out)\n",
    "        out = self.layer4(out)\n",
    "        out = self.last(out)\n",
    "        \n",
    "        return out"
   ]
  },
  {
   "cell_type": "code",
   "execution_count": 6,
   "metadata": {},
   "outputs": [
    {
     "name": "stdout",
     "output_type": "stream",
     "text": [
      "torch.Size([1, 20, 1, 1])\n",
      "--------------------\n",
      "torch.Size([1, 1, 64, 64])\n"
     ]
    },
    {
     "data": {
      "image/png": "[encoded data removed]",
      "text/plain": [
       "<Figure size 432x288 with 1 Axes>"
      ]
     },
     "metadata": {
      "needs_background": "light"
     },
     "output_type": "display_data"
    }
   ],
   "source": [
    "# 実装したネットワークで出力\n",
    "import matplotlib.pyplot as plt\n",
    "%matplotlib inline\n",
    "\n",
    "G = Generator(z_dim=20, image_size=64)\n",
    "\n",
    "input_z = torch.randn(1,20)\n",
    "\n",
    "# テンソルを(1,20)から(1,20,1,1)に変形\n",
    "# (batch_size, channel, H, W)\n",
    "input_z = input_z.view(input_z.size(0), input_z.size(1),1,1)\n",
    "print(input_z.size())\n",
    "\n",
    "print(\"--------------------\")\n",
    "\n",
    "fake_images = G(input_z)\n",
    "print(fake_images.size())\n",
    "\n",
    "img_transformed = fake_images[0][0].detach().numpy()\n",
    "plt.imshow(img_transformed,'gray')\n",
    "plt.show()"
   ]
  },
  {
   "cell_type": "markdown",
   "metadata": {},
   "source": [
    "### Discirminatorのメカニズム\n",
    "Generatorの生成する画像に対して損失関数を定義する必要がある．\n",
    "この損失関数を人間の手によってラベルをつけることによって行うことはほぼ無理である．主な理由は\n",
    "1. 膨大な量の画像に対してラベルをつけることは効率でない\n",
    "2. 初期のGeneratorは学習していないのであまりに精度高くラベル付けをしてしまうと全てが目的の画像に見えないと分類されてしまうので学習が進まない\n",
    "\n",
    "そこで**Discriminator**を判定機として作成することで，DiscriminatorもGeneratorと同レベルなので適度にラベル付けを行うことができる．"
   ]
  },
  {
   "cell_type": "markdown",
   "metadata": {},
   "source": [
    "### Discriminatorの実装\n",
    "**GANのDiscriminatorではLeakyReLUを用いることに注意する**"
   ]
  },
  {
   "cell_type": "code",
   "execution_count": 7,
   "metadata": {},
   "outputs": [],
   "source": [
    "class Discriminator(nn.Module):\n",
    "    \n",
    "    def __init__(self, z_dim=20, image_size=64):\n",
    "        super(Discriminator, self).__init__()\n",
    "        \n",
    "        self.layer1 = nn.Sequential(\n",
    "            nn.Conv2d(1, image_size, kernel_size=4, stride=2, padding=1),\n",
    "            nn.LeakyReLU(0.1, inplace=True))\n",
    "\n",
    "        self.layer2 = nn.Sequential(\n",
    "            nn.Conv2d(image_size, image_size*2, kernel_size=4, stride=2, padding=1),\n",
    "            nn.LeakyReLU(0.1, inplace=True))\n",
    "\n",
    "        self.layer3 = nn.Sequential(\n",
    "            nn.Conv2d(image_size*2, image_size*4, kernel_size=4, stride=2, padding=1),\n",
    "            nn.LeakyReLU(0.1, inplace=True))\n",
    "\n",
    "        self.layer4 = nn.Sequential(\n",
    "            nn.Conv2d(image_size*4, image_size*8, kernel_size=4, stride=2, padding=1),\n",
    "            nn.LeakyReLU(0.1, inplace=True))\n",
    "        \n",
    "        self.last = nn.Conv2d(image_size*8, 1, kernel_size=4, stride=1)\n",
    "        \n",
    "    \n",
    "    def forward(self, x):\n",
    "        out = self.layer1(x)\n",
    "        out = self.layer2(out)\n",
    "        out = self.layer3(out)\n",
    "        out = self.layer4(out)\n",
    "        out = self.last(out)\n",
    "        \n",
    "        return out"
   ]
  },
  {
   "cell_type": "code",
   "execution_count": 8,
   "metadata": {},
   "outputs": [
    {
     "name": "stdout",
     "output_type": "stream",
     "text": [
      "tensor([[[[0.5024]]]], grad_fn=<SigmoidBackward>)\n"
     ]
    }
   ],
   "source": [
    "# 動作確認\n",
    "D = Discriminator(z_dim=20, image_size=64)\n",
    "\n",
    "# 偽画像の生成\n",
    "input_z = torch.randn(1,20)\n",
    "input_z = input_z.view(input_z.size(0), input_z.size(1), 1, 1)\n",
    "fake_images = G(input_z)\n",
    "\n",
    "# 偽画像をDに入力\n",
    "d_out = D(fake_images)\n",
    "\n",
    "# 出力に対してシグモイドをかけて[0,1]に限定\n",
    "print(nn.Sigmoid()(d_out))"
   ]
  },
  {
   "cell_type": "markdown",
   "metadata": {},
   "source": [
    "## 5-2 DCGANの損失関数，学習，生成の実装\n",
    "本節ではDCGANの損失関数の実装する"
   ]
  },
  {
   "cell_type": "markdown",
   "metadata": {},
   "source": [
    "###  GANの損失関数\n",
    "詳しくは ```Jensen-Shannonダイバージェンス``` というクラス分類問題であるがここでは簡略化する\n",
    "\n",
    "入力される画像データを$x$とするとき，出力$y$は$y=D(x)$で表現される．\n",
    "ここで$y$は教師画像である確率を表している．\n",
    "よってあるラベル$l$に対する損失は$y^l(1-y)^{1-l}$で計算される．教師ラベルを1,偽画像を０とする．ミニバッチがM個あるので同時確率は\n",
    "$$\n",
    "\\Pi_{i=1}^M {y_i}^{l_i}(1-y_i)^{1-l_i}\n",
    "$$\n",
    "となるのでこれに対数をとる．\n",
    "またこのままでは最大化問題になるのでマイナスをとることで最小化問題に変える．\n",
    "$$\n",
    "-\\sum_{i=1}^M[l_i\\log y_i + (1-l_i)\\log(1-y_i)]\n",
    "$$\n",
    "これがDのニューラルネットワークの損失関数となる．\n",
    "\n",
    "この損失関数は```torch.nn.BCEWithLogitsLoss()```を使用して実装する．"
   ]
  },
  {
   "cell_type": "code",
   "execution_count": 10,
   "metadata": {
    "scrolled": true
   },
   "outputs": [],
   "source": [
    "# Dの誤差関数のイメージ実装\n",
    "# ただしこのセルはxが未定義なのでエラーとなる\n",
    "# print(\"------------------------------\")\n",
    "\n",
    "# # 正解ラベル\n",
    "# mini_batch_size = 2\n",
    "# label_real = torch.full((mini_batch_size,),1)\n",
    "# print(label_real)\n",
    "\n",
    "# # 偽ラベル\n",
    "# label_fake = torch.full((mini_batch_size,),0)\n",
    "\n",
    "# # 誤差関数を定義\n",
    "# criterion = nn.BCEWithLogitsLoss(reduction=\"mean\")\n",
    "\n",
    "# # 真の画像を判定\n",
    "# d_out_real = D(x)\n",
    "\n",
    "# # 偽の画像を生成して判定\n",
    "# input_z = torch.randn(mini_batch_size, 20)\n",
    "# input_z = input_z.view(input_z.size(0), input_z.size(1),1,1)\n",
    "# fake_images = G(input_z)\n",
    "# d_out_fake = D(input_z)\n",
    "\n",
    "# # 誤差の計算\n",
    "# d_loss_real = criterion(d_out_real.view(-1), label_real)\n",
    "# d_loss_fake = criterion(d_out_fake.view(-1), label_fake)\n",
    "# d_loss = d_loss_real + d_loss_fake"
   ]
  },
  {
   "cell_type": "markdown",
   "metadata": {},
   "source": [
    "次にGの損失関数の実装をする．\n",
    "ここでGはDを騙すことを目標とするのでDの損失関数が大きくなることが目標となる．\n",
    "\n",
    "したがって損失関数は\n",
    "$$\n",
    "\\sum_{i=1}^M[l_i\\log y_i + (1-l_i)\\log(1-y_i)]\n",
    "$$\n",
    "とすることができる．ただしここでGは偽画像の中でどれだけ騙すことができたかについて考えるので，この式の第一項は常に0となる．また同様の理由で$(1-l_i)=1$となる．よって損失関数は次のようになる．\n",
    "$$\n",
    "\\sum_{i=1}^M\\log(1-D(G(z_i)))\n",
    "$$\n",
    "しかしこのままでは学習の開始時点でもほとんどの生成した偽画像がほぼ未学習のDであっても見破られてしまうので損失関数がほぼゼロになってしまう(本来騙せたとしたらマイナスになっていく最小化問題である)\n",
    "\n",
    "そこで見破られたら大きな正で騙せたら０に近づいていく最小化問題に問題を置き換えることによって学習が進むようにする．\n",
    "$$\n",
    "-\\sum_{i=1}^M\\log D(G(z_i))\n",
    "$$\n",
    "\n",
    "またこの部分は実装では\n",
    "```criterion(d_out_fake.view(-1), label_real)```としているがこれは偽画像から作られたものに対する，本物であるという確信度を教師ラベルを用いて誤差関数を求めてることによって実際には偽画像によって得られ確信度がどれだけリアル\n",
    "\n",
    "注意する点としてはd_out_fakeはそれ自体ではシグモイドをまだかけられていないので[0,1]の範囲内にある値ではない点である"
   ]
  },
  {
   "cell_type": "code",
   "execution_count": 11,
   "metadata": {},
   "outputs": [],
   "source": [
    "# mini_batch_size = 3\n",
    "# def sigmoid(a):\n",
    "#     s = 1 / (1 + math.e**-a)\n",
    "#     return s\n",
    "\n",
    "# # d = torch.full((mini_batch_size,), 0.1) #tensor(0.7444) #0.6444\n",
    "# d = torch.Tensor([0.5,0.5,0.5]) #0.9741      #0.4741\n",
    "# # d = torch.full((mini_batch_size,), 0.9) #tensor(1.2412) #0.3412\n",
    "# print(d)\n",
    "\n",
    "# label = torch.full((mini_batch_size,),1)\n",
    "# label = torch.full((mini_batch_size,),0)\n",
    "# print(label)\n",
    "\n",
    "# criterion = nn.BCEWithLogitsLoss(reduction=\"mean\")\n",
    "# print(criterion(d.view(-1), label))"
   ]
  },
  {
   "cell_type": "code",
   "execution_count": 12,
   "metadata": {},
   "outputs": [],
   "source": [
    "input_z = torch.randn(mini_batch_size, 20)\n",
    "input_z = input_z.view(input_z.size(0), input_z.size(1), 1,1)\n",
    "fake_images = G(input_z)\n",
    "d_out_fake = D(fake_images)\n",
    "\n",
    "# 誤差の計算\n",
    "g_loss = criterion(d_out_fake.view(-1), label_real) #ここはlabel_realを用いることに注意"
   ]
  },
  {
   "cell_type": "markdown",
   "metadata": {},
   "source": [
    "### DataLoaderの作成\n",
    "基本的には今までとやることは同じだがデータセットを学習と検証に分ける必要がない．\n",
    "おそらくこれは精度など定量的な評価が必要なわけではなく，定性的な評価で十分なので分ける必要がないのだと思う．"
   ]
  },
  {
   "cell_type": "code",
   "execution_count": 13,
   "metadata": {},
   "outputs": [],
   "source": [
    "def make_datapath_list():\n",
    "    \n",
    "    train_img_list = list()\n",
    "    \n",
    "    for img_idx in range(200):\n",
    "        img_path = \"./data/img_78/img_7_\" + str(img_idx) + \".jpg\"\n",
    "        train_img_list.append(img_path)\n",
    "        \n",
    "        img_path = \"./data/img_78/img_8_\" + str(img_idx) + \".jpg\"\n",
    "        train_img_list.append(img_path)\n",
    "        \n",
    "    return train_img_list\n",
    "\n",
    "\n",
    "class ImageTransform():\n",
    "    \"\"\"\n",
    "    画像クラスの前処理\n",
    "    \"\"\"\n",
    "    def __init__(self, mean, std):\n",
    "        self.data_transform = transforms.Compose([\n",
    "            transforms.ToTensor(),\n",
    "            transforms.Normalize(mean, std)\n",
    "        ])\n",
    "    \n",
    "    def __call__(self, img):\n",
    "        return self.data_transform(img)\n",
    "    \n",
    "\n",
    "class GAN_Img_Dataset(data.Dataset):\n",
    "    \"\"\"\n",
    "    画像のDataset\n",
    "    \"\"\"\n",
    "    def __init__(self, file_list, transform):\n",
    "        self.file_list = file_list\n",
    "        self.transform = transform\n",
    "            \n",
    "    def __len__(self):\n",
    "        \"\"\"画像の枚数を返す\"\"\"\n",
    "        return len(self.file_list)\n",
    "    \n",
    "    def __getitem__(self,index):\n",
    "        \"\"\"前処理をした画像のTensor形式のデータを取得\"\"\"\n",
    "        \n",
    "        img_path = self.file_list[index]\n",
    "        img = Image.open(img_path) #H,W,C\n",
    "        \n",
    "        # 前処理\n",
    "        img_transformed = self.transform(img)\n",
    "        \n",
    "        return img_transformed"
   ]
  },
  {
   "cell_type": "code",
   "execution_count": 14,
   "metadata": {},
   "outputs": [],
   "source": [
    "# DataLoaderの作成\n",
    "train_img_list = make_datapath_list()\n",
    "# print(train_img_list)\n",
    "\n",
    "# Datasetの作成\n",
    "mean = (0.5,)\n",
    "std = (0.5,)\n",
    "train_dataset = GAN_Img_Dataset(train_img_list, ImageTransform(mean, std))\n",
    "\n",
    "# DataLoaderの作成\n",
    "batch_size = 64\n",
    "\n",
    "train_dataloader = torch.utils.data.DataLoader(train_dataset,\n",
    "                                              batch_size = batch_size, shuffle=True)\n"
   ]
  },
  {
   "cell_type": "code",
   "execution_count": 15,
   "metadata": {},
   "outputs": [
    {
     "name": "stdout",
     "output_type": "stream",
     "text": [
      "torch.Size([64, 1, 64, 64])\n"
     ]
    },
    {
     "data": {
      "image/png": "[encoded data removed]",
      "text/plain": [
       "<Figure size 432x288 with 1 Axes>"
      ]
     },
     "metadata": {
      "needs_background": "light"
     },
     "output_type": "display_data"
    }
   ],
   "source": [
    "#動作確認\n",
    "batch_iterator = iter(train_dataloader)\n",
    "imges = next(batch_iterator)\n",
    "print(imges.size())\n",
    "img_transformed = imges[0][0].detach().numpy()\n",
    "plt.imshow(img_transformed,'gray')\n",
    "plt.show()"
   ]
  },
  {
   "cell_type": "markdown",
   "metadata": {},
   "source": [
    "### DCGANの学習\n",
    "DCGANではそれぞれの初期化のパラメータは理論的な導出があるわけではなく経験的にこれがうまくいくのでこれを採用する．\n",
    "\n",
    "バックプロパゲーションはG,Dそれぞれ別々に行われるが，それぞれの場合でどちらも初期化している．これはおそらくGのバックプロパゲーションにはDの出力を含むのでDの逆伝搬の値が影響する．よってDの学習で用いられた逆伝搬までGの学習まで波及する．これはDの学習についても同様である．\n",
    "\n",
    "また，これはDのネットワークにReLUではなくLeakyReLUを用いた理由にも繋がり，Dでの逆伝搬はGにも波及するが，DにReLUを用いると多くのパラメータが0となってしまいGの学習が進まない結果となってしまう．"
   ]
  },
  {
   "cell_type": "code",
   "execution_count": 16,
   "metadata": {},
   "outputs": [
    {
     "name": "stdout",
     "output_type": "stream",
     "text": [
      "nextットワークの初期化完了\n"
     ]
    }
   ],
   "source": [
    "# ネットワークの初期化\n",
    "def weights_init(m):\n",
    "    classname = m.__class__.__name__\n",
    "    if classname.find(\"Conv\") != -1:\n",
    "        # Conv2dとConvTranspose2dの初期化\n",
    "        nn.init.normal_(m.weight.data, 0.0, 0.02) # mean  = 0.0 , std = 0.02\n",
    "        nn.init.constant_(m.bias.data,0)\n",
    "    elif classname.find(\"BatchNorm\") != -1:\n",
    "        #BatchNorm2dの初期化\n",
    "        nn.init.normal_(m.weight.data, 1.0, 0.02)\n",
    "        nn.init.constant_(m.bias.data,0)\n",
    "        \n",
    "# 初期化の実施\n",
    "G.apply(weights_init)\n",
    "D.apply(weights_init)\n",
    "\n",
    "print(\"nextットワークの初期化完了\")"
   ]
  },
  {
   "cell_type": "code",
   "execution_count": 18,
   "metadata": {},
   "outputs": [],
   "source": [
    "# モデルを学習させる関数の作成\n",
    "def train_model(G,D,dataloader, num_epochs):\n",
    "    \n",
    "    # GPU環境の確認\n",
    "    device = torch.device(\"cuda:0\" if torch.cuda.is_available() else \"cpu\")\n",
    "    print(\"使用デバイス : \", device)\n",
    "    \n",
    "    # 最適化手法の設定\n",
    "    g_lr, d_lr = 0.00001, 0.00004\n",
    "    beta1, beta2 = 0.0, 0.9\n",
    "    g_optimizer = torch.optim.Adam(G.parameters(), g_lr, [beta1, beta2] )\n",
    "    d_optimizer = torch.optim.Adam(D.parameters(), g_lr, [beta1, beta2] )\n",
    "    \n",
    "    \n",
    "    # 誤差関数の定義\n",
    "    criterion = nn.BCEWithLogitsLoss(reduction=\"mean\")\n",
    "    \n",
    "    # パラメータ\n",
    "    z_dim = 20\n",
    "    mini_batch_size = 64\n",
    "    \n",
    "    # GPU\n",
    "    G.to(device)\n",
    "    D.to(device)\n",
    "    \n",
    "    G.train()\n",
    "    D.train()\n",
    "    \n",
    "    # 高速化\n",
    "    torch.backends.cudnn.benchmark = True\n",
    "    \n",
    "    # 画像枚数\n",
    "    num_train_imgs = len(dataloader.dataset)\n",
    "    batch_size = dataloader.batch_size\n",
    "    \n",
    "    # イテレーションカウンタをセット\n",
    "    iteration = 1\n",
    "    logs = []\n",
    "    \n",
    "    # epochのループ\n",
    "    for epoch in range(num_epochs):\n",
    "        \n",
    "        # 開始時刻を保存\n",
    "        t_epoch_start = time.time()\n",
    "        epoch_g_loss = 0.0\n",
    "        epoch_d_loss = 0.0\n",
    "        \n",
    "        print(\"-----------------------------------\")\n",
    "        print(\"Epoch {}/{} \".format(epoch, num_epochs))\n",
    "        print(\"-----------------------------------\")\n",
    "        print(\"---  (train)  ---\")\n",
    "        \n",
    "        # データローダからmini_batchずつ取り出す\n",
    "        for imges in dataloader:\n",
    "            \n",
    "            \n",
    "            \"\"\"\n",
    "            \n",
    "            1.　Disicriminatorの学習\n",
    "            \n",
    "            \"\"\"\n",
    "            # ミニバッチがサイズが1だと，バッチノーマライゼーションでエラーになるので避ける\n",
    "            if imges.size()[0] == 1:\n",
    "                continue\n",
    "                \n",
    "            # GPUが使えるなら使う\n",
    "            imges = imges.to(device)\n",
    "            \n",
    "            # 　正解ラベルと偽ラベルを作成\n",
    "            # 最後のepochだけはミニバッチの余りなので数が少なくなる\n",
    "            mini_batch_size = imges.size()[0]\n",
    "            label_real = torch.full((mini_batch_size,),1).to(device)\n",
    "            label_fake = torch.full((mini_batch_size,),0).to(device)\n",
    "            \n",
    "            # 真の画像を判定\n",
    "            d_out_real = D(imges)\n",
    "\n",
    "            # 偽の画像を生成して判定\n",
    "            input_z = torch.randn(mini_batch_size, z_dim).to(device)\n",
    "            input_z = input_z.view(input_z.size(0),input_z.size(1), 1,1 )\n",
    "            fake_images = G(input_z)\n",
    "            d_out_fake = D(fake_images)\n",
    "            \n",
    "            \n",
    "            # 誤差の計算\n",
    "            d_loss_real = criterion(d_out_real.view(-1), label_real)\n",
    "            d_loss_fake = criterion(d_out_fake.view(-1), label_fake)\n",
    "            d_loss = d_loss_real + d_loss_fake\n",
    "            \n",
    "            # backward()\n",
    "            g_optimizer.zero_grad()  # ここでどちらも初期化すること！\n",
    "            d_optimizer.zero_grad()\n",
    "            \n",
    "            d_loss.backward()\n",
    "            d_optimizer.step()\n",
    "        \n",
    "\n",
    "            \"\"\"\n",
    "            \n",
    "            2.　Generatorの学習\n",
    "            \n",
    "            \"\"\"\n",
    "            \n",
    "            # 偽画像を生成して判定\n",
    "            input_z = torch.randn(mini_batch_size, z_dim).to(device)\n",
    "            input_z = input_z.view(input_z.size(0),input_z.size(1), 1,1 )\n",
    "            fake_images = G(input_z)\n",
    "            d_out_fake = D(fake_images)\n",
    "            \n",
    "            # 誤差の計算\n",
    "            g_loss = criterion(d_out_fake.view(-1), label_real)\n",
    "            \n",
    "            # backward()\n",
    "            g_optimizer.zero_grad()  # ここでどちらも初期化すること！\n",
    "            d_optimizer.zero_grad()\n",
    "            \n",
    "            g_loss.backward()\n",
    "            g_optimizer.step()\n",
    "            \n",
    "\n",
    "            \"\"\"\n",
    "            \n",
    "            3.　記録\n",
    "            \n",
    "            \"\"\"\n",
    "            epoch_d_loss += d_loss.item()\n",
    "            epoch_g_loss += g_loss.item()\n",
    "            iteration += 1\n",
    "            \n",
    "        # epochのphaseごとのlossと正解率\n",
    "        t_epoch_finish = time.time()\n",
    "        print(\"----------------------------\")\n",
    "        print('epoch {} || Epoch_D_Loss:{:.4f} ||Epoch_G_Loss:{:.4f}'.format(\n",
    "            epoch, epoch_d_loss/batch_size, epoch_g_loss/batch_size))\n",
    "        print('timer:  {:.4f} sec.'.format(t_epoch_finish - t_epoch_start))\n",
    "        t_epoch_start = time.time()\n",
    "        if ((epoch+1)%20==0):\n",
    "            torch.save(G.state_dict(), \"weights/dcgan_g_\"+str(epoch+1) + \".pth\")\n",
    "            torch.save(D.state_dict(), \"weights/dcgan_d_\"+str(epoch+1) + \".pth\")\n",
    "\n",
    "    return G, D"
   ]
  },
  {
   "cell_type": "code",
   "execution_count": null,
   "metadata": {},
   "outputs": [],
   "source": [
    "# 学習・検証を実行\n",
    "num_epochs = 200\n",
    "G_update, D_update = train_model(\n",
    "    G,D,dataloader=train_dataloader, num_epochs=num_epochs)"
   ]
  },
  {
   "cell_type": "code",
   "execution_count": null,
   "metadata": {},
   "outputs": [],
   "source": [
    "# 生成画像と訓練データを可視化する\n",
    "# 本セルは良い感じの画像が生成されるまで、何度も実行し直しています。\n",
    "\n",
    "device = torch.device(\"cuda:0\" if torch.cuda.is_available() else \"cpu\")\n",
    "\n",
    "# 入力の乱数生成\n",
    "batch_size = 8\n",
    "z_dim = 20\n",
    "fixed_z = torch.randn(batch_size, z_dim)\n",
    "fixed_z = fixed_z.view(fixed_z.size(0), fixed_z.size(1), 1, 1)\n",
    "\n",
    "# 画像生成\n",
    "fake_images = G_update(fixed_z.to(device))\n",
    "\n",
    "# 訓練データ\n",
    "batch_iterator = iter(train_dataloader)  # イテレータに変換\n",
    "imges = next(batch_iterator)  # 1番目の要素を取り出す\n",
    "\n",
    "\n",
    "# 出力\n",
    "fig = plt.figure(figsize=(15, 6))\n",
    "for i in range(0, 5):\n",
    "    # 上段に訓練データを\n",
    "    plt.subplot(2, 5, i+1)\n",
    "    plt.imshow(imges[i][0].cpu().detach().numpy(), 'gray')\n",
    "\n",
    "    # 下段に生成データを表示する\n",
    "    plt.subplot(2, 5, 5+i+1)\n",
    "    plt.imshow(fake_images[i][0].cpu().detach().numpy(), 'gray')"
   ]
  },
  {
   "cell_type": "code",
   "execution_count": null,
   "metadata": {},
   "outputs": [],
   "source": []
  }
 ],
 "metadata": {
  "colab": {
   "authorship_tag": "ABX9TyObzXzQHD98btbBTu8+3u3s",
   "name": "DCGAN.ipynb",
   "provenance": []
  },
  "kernelspec": {
   "display_name": "Python 3",
   "language": "python",
   "name": "python3"
  },
  "language_info": {
   "codemirror_mode": {
    "name": "ipython",
    "version": 3
   },
   "file_extension": ".py",
   "mimetype": "text/x-python",
   "name": "python",
   "nbconvert_exporter": "python",
   "pygments_lexer": "ipython3",
   "version": "3.6.9"
  },
  "toc": {
   "base_numbering": 1,
   "nav_menu": {},
   "number_sections": true,
   "sideBar": true,
   "skip_h1_title": false,
   "title_cell": "Table of Contents",
   "title_sidebar": "Contents",
   "toc_cell": false,
   "toc_position": {
    "height": "calc(100% - 180px)",
    "left": "10px",
    "top": "150px",
    "width": "288px"
   },
   "toc_section_display": true,
   "toc_window_display": true
  }
 },
 "nbformat": 4,
 "nbformat_minor": 1
}
