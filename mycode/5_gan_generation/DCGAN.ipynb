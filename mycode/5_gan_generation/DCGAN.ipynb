{
  "nbformat": 4,
  "nbformat_minor": 0,
  "metadata": {
    "colab": {
      "name": "DCGAN.ipynb",
      "provenance": [],
      "authorship_tag": "ABX9TyObzXzQHD98btbBTu8+3u3s"
    },
    "kernelspec": {
      "name": "python3",
      "display_name": "Python 3"
    }
  },
  "cells": [
    {
      "cell_type": "markdown",
      "metadata": {
        "id": "Ic1ZfAT4lkK2",
        "colab_type": "text"
      },
      "source": [
        "# GANによる画像生成のメカニズムとDCGANの実装\n",
        "\n",
        "commit用\n",
        "\n",
        "```mycode/5_gan_generation/```"
      ]
    },
    {
      "cell_type": "markdown",
      "metadata": {
        "id": "SrYlKuSZmHW9",
        "colab_type": "text"
      },
      "source": [
        ""
      ]
    },
    {
      "cell_type": "code",
      "metadata": {
        "id": "er8sVf8Okg-z",
        "colab_type": "code",
        "colab": {
          "base_uri": "https://localhost:8080/",
          "height": 51
        },
        "outputId": "c23fedf9-eaea-4f92-c2fd-9028db704ac4"
      },
      "source": [
        "!pip list | grep scikit"
      ],
      "execution_count": 2,
      "outputs": [
        {
          "output_type": "stream",
          "text": [
            "scikit-image             0.16.2         \n",
            "scikit-learn             0.22.2.post1   \n"
          ],
          "name": "stdout"
        }
      ]
    },
    {
      "cell_type": "code",
      "metadata": {
        "id": "Qr6vMWVtljod",
        "colab_type": "code",
        "colab": {}
      },
      "source": [
        ""
      ],
      "execution_count": 0,
      "outputs": []
    },
    {
      "cell_type": "code",
      "metadata": {
        "id": "HPFI1sfImEDL",
        "colab_type": "code",
        "colab": {}
      },
      "source": [
        ""
      ],
      "execution_count": 0,
      "outputs": []
    },
    {
      "cell_type": "code",
      "metadata": {
        "id": "q9Na1DYklKjU",
        "colab_type": "code",
        "colab": {}
      },
      "source": [
        ""
      ],
      "execution_count": 0,
      "outputs": []
    }
  ]
}