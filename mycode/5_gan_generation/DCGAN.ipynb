{
 "cells": [
  {
   "cell_type": "markdown",
   "metadata": {
    "colab_type": "text",
    "id": "Ic1ZfAT4lkK2"
   },
   "source": [
    "# GANによる画像生成のメカニズムとDCGANの実装\n",
    "\n",
    "commit用\n",
    "\n",
    "```mycode/5_gan_generation/```"
   ]
  },
  {
   "cell_type": "code",
   "execution_count": 1,
   "metadata": {
    "colab": {
     "base_uri": "https://localhost:8080/",
     "height": 51
    },
    "colab_type": "code",
    "id": "er8sVf8Okg-z",
    "outputId": "c23fedf9-eaea-4f92-c2fd-9028db704ac4",
    "scrolled": false
   },
   "outputs": [
    {
     "name": "stdout",
     "output_type": "stream",
     "text": [
      "scikit-image                      0.16.2             \r\n",
      "scikit-learn                      0.22.2.post1       \r\n"
     ]
    }
   ],
   "source": [
    "!pip list | grep scikit"
   ]
  },
  {
   "cell_type": "code",
   "execution_count": 2,
   "metadata": {},
   "outputs": [
    {
     "name": "stdout",
     "output_type": "stream",
     "text": [
      "\u001b[1m\u001b[37ms2                 \u001b[m  Tue Apr 14 12:08:16 2020  \u001b[1m\u001b[30m440.44\u001b[m\r\n",
      "\u001b[36m[0]\u001b[m \u001b[34mQuadro RTX 8000 \u001b[m |\u001b[1m\u001b[31m 65'C\u001b[m, \u001b[1m\u001b[32m100 %\u001b[m | \u001b[36m\u001b[1m\u001b[33m11338\u001b[m / \u001b[33m48601\u001b[m MB | \u001b[1m\u001b[30mkera\u001b[m(\u001b[33m733M\u001b[m) \u001b[1m\u001b[30mtaoli\u001b[m(\u001b[33m10589M\u001b[m)\r\n",
      "\u001b[36m[1]\u001b[m \u001b[34mQuadro RTX 8000 \u001b[m |\u001b[31m 26'C\u001b[m, \u001b[32m  0 %\u001b[m | \u001b[36m\u001b[1m\u001b[33m   12\u001b[m / \u001b[33m48601\u001b[m MB |\r\n",
      "\u001b[36m[2]\u001b[m \u001b[34mQuadro RTX 8000 \u001b[m |\u001b[1m\u001b[31m 68'C\u001b[m, \u001b[1m\u001b[32m100 %\u001b[m | \u001b[36m\u001b[1m\u001b[33m17045\u001b[m / \u001b[33m48601\u001b[m MB | \u001b[1m\u001b[30mtaoli\u001b[m(\u001b[33m17031M\u001b[m)\r\n",
      "\u001b[36m[3]\u001b[m \u001b[34mQuadro RTX 8000 \u001b[m |\u001b[1m\u001b[31m 63'C\u001b[m, \u001b[1m\u001b[32m100 %\u001b[m | \u001b[36m\u001b[1m\u001b[33m22401\u001b[m / \u001b[33m48601\u001b[m MB | \u001b[1m\u001b[30mtaoli\u001b[m(\u001b[33m22385M\u001b[m)\r\n",
      "\u001b[36m[4]\u001b[m \u001b[34mQuadro RTX 8000 \u001b[m |\u001b[1m\u001b[31m 62'C\u001b[m, \u001b[1m\u001b[32m 98 %\u001b[m | \u001b[36m\u001b[1m\u001b[33m 8859\u001b[m / \u001b[33m48601\u001b[m MB | \u001b[1m\u001b[30mhara\u001b[m(\u001b[33m8847M\u001b[m)\r\n",
      "\u001b[36m[5]\u001b[m \u001b[34mQuadro RTX 8000 \u001b[m |\u001b[1m\u001b[31m 64'C\u001b[m, \u001b[1m\u001b[32m 80 %\u001b[m | \u001b[36m\u001b[1m\u001b[33m29181\u001b[m / \u001b[33m48601\u001b[m MB | \u001b[1m\u001b[30mtaoli\u001b[m(\u001b[33m29165M\u001b[m)\r\n",
      "\u001b[36m[6]\u001b[m \u001b[34mQuadro RTX 8000 \u001b[m |\u001b[1m\u001b[31m 62'C\u001b[m, \u001b[1m\u001b[32m 98 %\u001b[m | \u001b[36m\u001b[1m\u001b[33m 6263\u001b[m / \u001b[33m48601\u001b[m MB | \u001b[1m\u001b[30mtaoli\u001b[m(\u001b[33m6249M\u001b[m)\r\n",
      "\u001b[36m[7]\u001b[m \u001b[34mQuadro RTX 8000 \u001b[m |\u001b[1m\u001b[31m 65'C\u001b[m, \u001b[1m\u001b[32m 90 %\u001b[m | \u001b[36m\u001b[1m\u001b[33m16319\u001b[m / \u001b[33m48601\u001b[m MB | \u001b[1m\u001b[30mtaoli\u001b[m(\u001b[33m16305M\u001b[m)\r\n"
     ]
    }
   ],
   "source": [
    "!gpustat"
   ]
  },
  {
   "cell_type": "code",
   "execution_count": 3,
   "metadata": {},
   "outputs": [],
   "source": [
    "import os\n",
    "os.environ[\"CUDA_VISIBLE_DEVICES\"]=\"1\""
   ]
  },
  {
   "cell_type": "code",
   "execution_count": 4,
   "metadata": {},
   "outputs": [],
   "source": [
    "# パッケージのimport\n",
    "import random\n",
    "import math\n",
    "import time\n",
    "import pandas as pd\n",
    "import numpy as np\n",
    "from PIL import Image\n",
    "\n",
    "import torch\n",
    "import torch.utils.data as data\n",
    "import torch.nn as nn\n",
    "import torch.nn.functional as F\n",
    "import torch.optim as optim\n",
    "\n",
    "from torchvision import transforms\n",
    "%config IPCompleter.greedy=True"
   ]
  },
  {
   "cell_type": "markdown",
   "metadata": {
    "colab_type": "text",
    "id": "SrYlKuSZmHW9"
   },
   "source": [
    "## 5-1 GANによる画像生成のメカニズムとDCGANの実装"
   ]
  },
  {
   "cell_type": "markdown",
   "metadata": {
    "colab": {},
    "colab_type": "code",
    "id": "Qr6vMWVtljod"
   },
   "source": [
    "### Generatorのメカニズム\n",
    "Generatorは入力乱数から目的の画像を生成するのでデータの次元を拡大していく必要がある．\n",
    "このときに重要になるのが**転置畳み込み**である．\n",
    "普通の畳み込みは入力データの全てのセルとカーネルの全てのセルの計算結果を集約して１つのセルにするのに対して，転置畳み込みは１つの入力セルに対して全てのカーネルのセルを作用させてその１つ１つを出力とするので結果として出力されるデータの次元は大きくなる．"
   ]
  },
  {
   "cell_type": "markdown",
   "metadata": {},
   "source": [
    "### Generatorの実装\n",
    "本節ではGANの中でも特に**DCGAN**と呼ばれるものを実装する．\n",
    "\n",
    "***DCGAN：***Deep Convolution Generative Adversarial Network\n",
    "\n",
    "実装に当たって入力する乱数の次元を```z_dim=20```にしてるがこれには特に意味はなく，生成画像の多様性が担保されればなんでも良い\n"
   ]
  },
  {
   "cell_type": "code",
   "execution_count": 7,
   "metadata": {
    "colab": {},
    "colab_type": "code",
    "id": "HPFI1sfImEDL"
   },
   "outputs": [],
   "source": [
    "class Generator(nn.Module):\n",
    "    \n",
    "    def __init__(self, z_dim = 20, image_size=64):\n",
    "        super(Generator, self).__init__()\n",
    "        \n",
    "        # ここで out_channels = image_size*8に特別な意味は？\n",
    "        self.layer1 = nn.Sequential(\n",
    "            nn.ConvTranspose2d(z_dim, image_size*8, kernel_size=4, stride=1),\n",
    "            nn.BatchNorm2d(image_size*8),\n",
    "            nn.ReLu(inplace=True))\n",
    "        \n",
    "        self.layer2 = nn.Sequential(\n",
    "            nn.ConvTranspose2d(image_size*8, image_size*4, kernel_size=4, stride=2, padding=1),\n",
    "            nn.BatchNorm2d(image_size*4),\n",
    "            nn.ReLu(inplace=True))\n",
    "            \n",
    "        self.layer2 = nn.Sequential(\n",
    "            nn.ConvTranspose2d(image_size*8, image_size*4, kernel_size=4, stride=2, padding=1),\n",
    "            nn.BatchNorm2d(image_size*4),\n",
    "            nn.ReLu(inplace=True))\n",
    "        \n",
    "        self.layer3 = nn.Sequential(\n",
    "            nn.ConvTranspose2d(image_size*4, image_size*2, kernel_size=4, stride=2, padding=1),\n",
    "            nn.BatchNorm2d(image_size*2),\n",
    "            nn.ReLu(inplace=True))\n",
    "              \n",
    "        self.layer4 = nn.Sequential(\n",
    "            nn.ConvTranspose2d(image_size*2, image_size, kernel_size=4, stride=2, padding=1),\n",
    "            nn.BatchNorm2d(image_size),\n",
    "            nn.ReLu(inplace=True))\n",
    "        \n",
    "        self.last = nn.Sequential(\n",
    "            nn.ConvTranspose2d(image_size, 1, kernel_size=4, stride=2, padding=1),\n",
    "            nn.Tanh())\n",
    "        # 白黒なので出力は1チャネル\n",
    "        \n",
    "        \n",
    "    def forward(self, z):\n",
    "        out = self.layer1(z)\n",
    "        out = self.layer2(out)\n",
    "        out = self.layer3(out)\n",
    "        out = self.layer4(out)\n",
    "        out = self.last(out)\n",
    "        \n",
    "        return out"
   ]
  },
  {
   "cell_type": "code",
   "execution_count": 8,
   "metadata": {},
   "outputs": [],
   "source": [
    "# 実装したネットワークで出力\n",
    "import matplotlib.pyplot as plt\n",
    "%matplotlib inline\n",
    "\n",
    "G = Generator(z_dim=20, image_size=64)"
   ]
  },
  {
   "cell_type": "code",
   "execution_count": null,
   "metadata": {},
   "outputs": [],
   "source": []
  }
 ],
 "metadata": {
  "colab": {
   "authorship_tag": "ABX9TyObzXzQHD98btbBTu8+3u3s",
   "name": "DCGAN.ipynb",
   "provenance": []
  },
  "kernelspec": {
   "display_name": "Python 3",
   "language": "python",
   "name": "python3"
  },
  "language_info": {
   "codemirror_mode": {
    "name": "ipython",
    "version": 3
   },
   "file_extension": ".py",
   "mimetype": "text/x-python",
   "name": "python",
   "nbconvert_exporter": "python",
   "pygments_lexer": "ipython3",
   "version": "3.7.6"
  }
 },
 "nbformat": 4,
 "nbformat_minor": 1
}
