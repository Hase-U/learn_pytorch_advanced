{
 "cells": [
  {
   "cell_type": "markdown",
   "metadata": {},
   "source": [
    "# GANによる異常検知"
   ]
  },
  {
   "cell_type": "code",
   "execution_count": 24,
   "metadata": {},
   "outputs": [
    {
     "name": "stdout",
     "output_type": "stream",
     "text": [
      "\u001b[1m\u001b[37ms2                 \u001b[m  Tue Apr 21 19:35:14 2020  \u001b[1m\u001b[30m440.44\u001b[m\r\n",
      "\u001b[36m[0]\u001b[m \u001b[34mQuadro RTX 8000 \u001b[m |\u001b[1m\u001b[31m 54'C\u001b[m, \u001b[32m 23 %\u001b[m | \u001b[36m\u001b[1m\u001b[33m 2597\u001b[m / \u001b[33m48601\u001b[m MB | \u001b[1m\u001b[30mtaoli\u001b[m(\u001b[33m2583M\u001b[m)\r\n",
      "\u001b[36m[1]\u001b[m \u001b[34mQuadro RTX 8000 \u001b[m |\u001b[31m 27'C\u001b[m, \u001b[32m  0 %\u001b[m | \u001b[36m\u001b[1m\u001b[33m  745\u001b[m / \u001b[33m48601\u001b[m MB | \u001b[1m\u001b[30mhasegawa\u001b[m(\u001b[33m733M\u001b[m)\r\n",
      "\u001b[36m[2]\u001b[m \u001b[34mQuadro RTX 8000 \u001b[m |\u001b[31m 25'C\u001b[m, \u001b[32m  0 %\u001b[m | \u001b[36m\u001b[1m\u001b[33m 1765\u001b[m / \u001b[33m48601\u001b[m MB | \u001b[1m\u001b[30minoue\u001b[m(\u001b[33m1753M\u001b[m)\r\n",
      "\u001b[36m[3]\u001b[m \u001b[34mQuadro RTX 8000 \u001b[m |\u001b[31m 25'C\u001b[m, \u001b[32m  0 %\u001b[m | \u001b[36m\u001b[1m\u001b[33m   12\u001b[m / \u001b[33m48601\u001b[m MB |\r\n",
      "\u001b[36m[4]\u001b[m \u001b[34mQuadro RTX 8000 \u001b[m |\u001b[1m\u001b[31m 59'C\u001b[m, \u001b[1m\u001b[32m 91 %\u001b[m | \u001b[36m\u001b[1m\u001b[33m 5178\u001b[m / \u001b[33m48601\u001b[m MB | \u001b[1m\u001b[30mtaoli\u001b[m(\u001b[33m2581M\u001b[m) \u001b[1m\u001b[30mtaoli\u001b[m(\u001b[33m2581M\u001b[m)\r\n",
      "\u001b[36m[5]\u001b[m \u001b[34mQuadro RTX 8000 \u001b[m |\u001b[31m 48'C\u001b[m, \u001b[32m  1 %\u001b[m | \u001b[36m\u001b[1m\u001b[33m 2595\u001b[m / \u001b[33m48601\u001b[m MB | \u001b[1m\u001b[30mtaoli\u001b[m(\u001b[33m2581M\u001b[m)\r\n",
      "\u001b[36m[6]\u001b[m \u001b[34mQuadro RTX 8000 \u001b[m |\u001b[31m 49'C\u001b[m, \u001b[1m\u001b[32m 75 %\u001b[m | \u001b[36m\u001b[1m\u001b[33m 2595\u001b[m / \u001b[33m48601\u001b[m MB | \u001b[1m\u001b[30mtaoli\u001b[m(\u001b[33m2581M\u001b[m)\r\n",
      "\u001b[36m[7]\u001b[m \u001b[34mQuadro RTX 8000 \u001b[m |\u001b[1m\u001b[31m 50'C\u001b[m, \u001b[1m\u001b[32m 88 %\u001b[m | \u001b[36m\u001b[1m\u001b[33m 2595\u001b[m / \u001b[33m48601\u001b[m MB | \u001b[1m\u001b[30mtaoli\u001b[m(\u001b[33m2581M\u001b[m)\r\n"
     ]
    }
   ],
   "source": [
    "!gpustat"
   ]
  },
  {
   "cell_type": "code",
   "execution_count": 23,
   "metadata": {},
   "outputs": [],
   "source": [
    "import os\n",
    "os.environ[\"CUDA_VISIBLE_DEVICES\"]=\"1\""
   ]
  },
  {
   "cell_type": "code",
   "execution_count": 3,
   "metadata": {},
   "outputs": [],
   "source": [
    "# パッケージのimport\n",
    "import random\n",
    "import math\n",
    "import time\n",
    "import pandas as pd\n",
    "import numpy as np\n",
    "from PIL import Image\n",
    "\n",
    "import torch\n",
    "import torch.utils.data as data\n",
    "import torch.nn as nn\n",
    "import torch.nn.functional as F\n",
    "import torch.optim as optim\n",
    "\n",
    "from torchvision import transforms\n",
    "%config IPCompleter.greedy=True\n",
    "\n",
    "import matplotlib.pyplot as plt\n",
    "%matplotlib inline"
   ]
  },
  {
   "cell_type": "code",
   "execution_count": 25,
   "metadata": {},
   "outputs": [
    {
     "name": "stdout",
     "output_type": "stream",
     "text": [
      "cuda:0\n"
     ]
    }
   ],
   "source": [
    "# device = \"cpu\"\n",
    "device = torch.device(\"cuda:0\" if torch.cuda.is_available() else \"cpu\")\n",
    "print(device)"
   ]
  },
  {
   "cell_type": "code",
   "execution_count": 6,
   "metadata": {},
   "outputs": [],
   "source": [
    "# Setup seeds\n",
    "torch.manual_seed(1234)\n",
    "np.random.seed(1234)\n",
    "random.seed(1234)"
   ]
  },
  {
   "cell_type": "markdown",
   "metadata": {},
   "source": [
    "## 6-3 Efficient GANの概要\n",
    "AnoGANではテスト画像に対して異常検知をするのにまずテスト画像と最も近い画像を作ることのできる生成ノイズを学習する必要があり，異常検知に時間がかかってしまう問題があった．本節ではその問題を解決するためにEfficient GANを理解する"
   ]
  },
  {
   "cell_type": "markdown",
   "metadata": {},
   "source": [
    "### Efficient GAN\n",
    "Efficient GANではテスト画像から生成ノイズzを生成するエンコーダEを新たに作る．つまりこれは生成器Gとは逆の作用をしていて${\\rm G}^{-1}$と表すことができる．このEについては通常通りGANを生成した後に独立に作ろうとすると上手くいかないらしい．なのでここではG,D,Eを同時に作る手順を理解する．"
   ]
  },
  {
   "cell_type": "markdown",
   "metadata": {},
   "source": [
    "### Encoderを作る方法，後から作る作戦が上手くいかない理由\n",
    "- [Adversarially learned inference](https://arxiv.org/pdf/1606.00704.pdf)\n",
    "- [Adversarially learned inference GitHub page](https://ishmaelbelghazi.github.io/ALI/)\n",
    "\n",
    "\n",
    "詳しくは上のサイトの図を参照するのがわかりやすい．それぞれの方法で作成したEncoderについて二次元データ(本来は画像を用いるところ)を入力して，生成ノイズzの空間に写像させた時に本来GANの入力ノイズは平均0,　分散1の均一な空間になると基づいて設計されているが適切な学習をさせていないEncoderの写像はそのような空間になっていない．つまりこれは平均0, 分散1の生成ノイズに対して上手く画像を生成できないことを意味している．\n",
    "\n",
    "この直感的な理由の理解としては，Generatorが入力データの平均や分散を完全に理解していれば問題ないがそれは現実的には困難であり，不完全に学習したGeneratorを基にして学習するよりは本来学習の基にすべきである教師データを基にEncoderも学習するべきであるというように考えることができる．\n"
   ]
  },
  {
   "cell_type": "markdown",
   "metadata": {},
   "source": [
    "### EncoderをGANと同時に作る方法\n",
    "今回はEncoderを教師データの画像xと関与させるために**BiGAN(Bidiretional GAN)** と呼ばれる仕組みを利用する．\n",
    "BiGANではDiscriminatorに対して$(x, E(x))$と$(G(z), z)$を入力する．\n",
    "\n",
    "つまり元々のDCGANの損失関数とBiGANの損失関数を比較すると\n",
    "- Discriminator\n",
    "$$\n",
    "-\\sum_{i=1}^M\\log D(x) -\\sum_{j=1}^M \\log(1-D(G(z))\n",
    "$$\n",
    "$$\n",
    "-\\sum_{i=1}^M[\\log  D(x_i, E(x_i)-\\sum_{j=1}^M  \\log(1-D(G(z_j), z_j))]\n",
    "$$\n",
    "\n",
    "- Generator\n",
    "$$\n",
    "-\\sum_{j=1}^M\\log D(G(z_j))\n",
    "$$\n",
    "$$\n",
    "-\\sum_{j=1}^M\\log D(G(z_j), z_j)\n",
    "$$\n",
    "\n",
    "ここでEncoderの損失関数を考えると，EncoderはDiscriminatorを騙せると嬉しいので，Discriminatorの損失関数にマイナスをかけてEncoderに関与するところだけを取り出すと\n",
    "- Encoder\n",
    "\n",
    "$\\sum_{i=1}^M\\log D(x_i, E(x_i))$\n",
    "となる．しかしGeneratorと同様にこのままでは学習が進まないので以下のようにする．\n",
    "$$\n",
    "- \\sum_{i=1}^M\\log (1- D(x_i, E(x_i)))\n",
    "$$\n"
   ]
  },
  {
   "cell_type": "raw",
   "metadata": {},
   "source": [
    "# 誤差関数の実装のイメージ\n",
    "# BCEwithLogitsLossは入力にシグモイドを自動でかけてくれる\n",
    "criterion = nn.BCEWithLogitsLoss(reduction=\"mean\")\n",
    "\n",
    "# データローダーからmini-batchごとに取り出す\n",
    "for imges in dataloader:\n",
    "    label_real = torch.full((mini_batch_size,),1)\n",
    "    label_fake = torch.full((mini_batch_size,),0)\n",
    "    \n",
    "    \"\"\"D\"\"\"\n",
    "    # 前半部分\n",
    "    z_out_real = E(imges)\n",
    "    d_out_real, _ = D(imges, z_out_real)\n",
    "    \n",
    "    #　後半部分\n",
    "    input_z = torch.randn(mini_batch_size, z_dim).to(device)\n",
    "    fake_images = G(input_z)\n",
    "    d_out_fake, _ = D(fake_images, input_z)\n",
    "    \n",
    "    # 誤差の計算\n",
    "    d_loss_real = criterion(d_out_real.view(-1), label_real)\n",
    "    d_loss_fake = criterion(d_out_fake.view(-1), label_fake)\n",
    "    d_loss = d_loss_real + d_loss_fake\n",
    "    \n",
    "    #  backward\n",
    "    d_optimizer.zero_grad()\n",
    "    d_loss.backward()\n",
    "    d_optimizer.step()\n",
    "    \n",
    "    \n",
    "    \"\"\"G\"\"\"\n",
    "    # 偽画像を生成して判定\n",
    "    input_z = torch.randn(mini_batch_size, z_dim).to(device)\n",
    "    fake_images = G(input_z)\n",
    "    d_out_fake, _ = D(fake_images, input_z)\n",
    "    \n",
    "    # 誤差の計算\n",
    "    g_loss = criterion(d_out_fake.view(-1), label_real)\n",
    "    \n",
    "    # backward\n",
    "    g_optimizer.zero_grad()\n",
    "    g_loss.backward()\n",
    "    g_optimizer.step()\n",
    "    \n",
    "    \n",
    "    \"\"\"E\"\"\"\n",
    "    z_out_real = E(imges)\n",
    "    d_out_real, _ = D(imges, z_out_real)\n",
    "    \n",
    "    # 誤差の計算\n",
    "    e_loss = criterion(d_out_real.view(-1), label_fake)\n",
    "    \n",
    "    # backward\n",
    "    e_optimizer.zero_grad()\n",
    "    e_loss.backward()\n",
    "    e_optimizer.step()"
   ]
  },
  {
   "cell_type": "markdown",
   "metadata": {},
   "source": [
    "## 6-4 Efficient GANの実装と異常検知の実施\n",
    "mnistの7と8の画像を正常画像としてGANを学習する．この時画像サイズが64ピクセル平方ではなく28ピクセル平方であることに注意が必要．Encoderも同時に学習させることも含めて前に作ったGANの学習ずみモデルをここに適用することができないのでサイド学習させる必要がある．"
   ]
  },
  {
   "cell_type": "markdown",
   "metadata": {},
   "source": [
    "### GeneratorとDiscriminatorの実装"
   ]
  },
  {
   "cell_type": "code",
   "execution_count": 7,
   "metadata": {},
   "outputs": [],
   "source": [
    "class Generator(nn.Module):\n",
    "    \n",
    "    def __init__(self, z_dim=20):\n",
    "        super(Generator, self).__init__()\n",
    "        \n",
    "        self.layer1 = nn.Sequential(\n",
    "            nn.Linear(z_dim, 1024),\n",
    "            nn.BatchNorm1d(1024),\n",
    "            nn.ReLU(inplace=True))\n",
    "        \n",
    "        self.layer2 = nn.Sequential(\n",
    "            nn.Linear(1024, 7*7*128),\n",
    "            nn.BatchNorm1d(7*7*128),\n",
    "            nn.ReLU(inplace=True))\n",
    "        \n",
    "        self.layer3 = nn.Sequential(\n",
    "            nn.ConvTranspose2d(in_channels=128, out_channels=64, kernel_size=4, stride=2, padding=1),\n",
    "            nn.BatchNorm2d(64),\n",
    "            nn.ReLU(inplace=True))\n",
    "        \n",
    "        self.last = nn.Sequential(\n",
    "            nn.ConvTranspose2d(in_channels=64, out_channels=1, kernel_size=4, stride=2, padding=1),\n",
    "            nn.Tanh())\n",
    "        \n",
    "        \n",
    "    def forward(self, z):\n",
    "        out = self.layer1(z)\n",
    "        out = self.layer2(out)\n",
    "        \n",
    "        # 転置畳み込み層にいれるテンソルに形を変形する\n",
    "        out = out.view(z.shape[0], 128, 7, 7)\n",
    "        out = self.layer3(out)\n",
    "        out = self.last(out)\n",
    "        \n",
    "        return out"
   ]
  },
  {
   "cell_type": "code",
   "execution_count": 8,
   "metadata": {},
   "outputs": [
    {
     "data": {
      "image/png": "[encoded data removed]",
      "text/plain": [
       "<Figure size 432x288 with 1 Axes>"
      ]
     },
     "metadata": {
      "needs_background": "light"
     },
     "output_type": "display_data"
    }
   ],
   "source": [
    "# 動作確認\n",
    "G = Generator(z_dim=20)\n",
    "G.train()\n",
    "\n",
    "# Batch_Normがあるのでミニバッチは２以上の数\n",
    "input_z = torch.randn(2,20)\n",
    "\n",
    "fake_images = G(input_z)\n",
    "img_transformed = fake_images[0][0].detach().numpy()\n",
    "plt.imshow(img_transformed,\"gray\")\n",
    "plt.show()"
   ]
  },
  {
   "cell_type": "markdown",
   "metadata": {},
   "source": [
    "BiGANのモデルでは識別器Dに対して画像データxだけではなく入力ノイズzも入力します．これら２つは畳み込み層と全結合層で別々に処理された後に結合される．結合には```torch.cat()```を利用し，その後再度全結合層にて処理をする．"
   ]
  },
  {
   "cell_type": "code",
   "execution_count": 9,
   "metadata": {},
   "outputs": [],
   "source": [
    "class Discriminator(nn.Module):\n",
    "    \n",
    "    def __init__(self, z_dim=20):\n",
    "        super(Discriminator, self).__init__()\n",
    "        \n",
    "        # 入力画像の処理\n",
    "        self.x_layer1 = nn.Sequential(\n",
    "            nn.Conv2d(1, 64, kernel_size=4, stride=2, padding=1), # 白黒なのでinput_channel = 1\n",
    "            nn.LeakyReLU(0.1, inplace=True))\n",
    "        \n",
    "        self.x_layer2 =  nn.Sequential(\n",
    "            nn.Conv2d(64, 64, kernel_size=4, stride=2, padding=1), # 白黒なのでinput_channel = 1\n",
    "            nn.BatchNorm2d(64),\n",
    "            nn.LeakyReLU(0.1, inplace=True))\n",
    "        \n",
    "        # 乱数の入力処理\n",
    "        self.z_layer1 = nn.Linear(z_dim, 512)\n",
    "        \n",
    "        # 最後の判定\n",
    "        self.last1 = nn.Sequential(\n",
    "            nn.Linear(3648, 1024),  # (3648 - 512)**0.5 = 56\n",
    "            nn.LeakyReLU(0.1, inplace=True))\n",
    "\n",
    "        self.last2 = nn.Linear(1024, 1)\n",
    "        \n",
    "        \n",
    "    def forward(self, x, z):\n",
    "        \n",
    "        # 画像\n",
    "        x_out = self.x_layer1(x)\n",
    "        x_out = self.x_layer2(x_out)\n",
    "        \n",
    "        # 乱数\n",
    "        z = z.view(z.shape[0],-1)\n",
    "        z_out = self.z_layer1(z)\n",
    "        \n",
    "        # x_out と z_out の結合 \n",
    "        # その後全結合層\n",
    "        x_out = x_out.view(-1, 64*7*7)\n",
    "        out = torch.cat([x_out, z_out], dim=1)\n",
    "        out = self.last1(out)\n",
    "        \n",
    "        feature = out\n",
    "        feature = feature.view(feature.size()[0], -1)\n",
    "        \n",
    "        out = self.last2(out)\n",
    "        \n",
    "        return out , feature"
   ]
  },
  {
   "cell_type": "code",
   "execution_count": 10,
   "metadata": {},
   "outputs": [
    {
     "name": "stdout",
     "output_type": "stream",
     "text": [
      "tensor([[0.4322],\n",
      "        [0.4629]], grad_fn=<SigmoidBackward>)\n"
     ]
    }
   ],
   "source": [
    "# 動作確認\n",
    "D = Discriminator(z_dim=20)\n",
    "\n",
    "input_z = torch.randn(2,20)\n",
    "fake_images = G(input_z)\n",
    "\n",
    "d_out, _ = D(fake_images, input_z)\n",
    "\n",
    "print(nn.Sigmoid()(d_out))"
   ]
  },
  {
   "cell_type": "markdown",
   "metadata": {},
   "source": [
    "### Encoderの実装\n",
    "出力サイズが一次元ではなく```z_dim```になることに注意"
   ]
  },
  {
   "cell_type": "code",
   "execution_count": 11,
   "metadata": {},
   "outputs": [],
   "source": [
    "class Encoder(nn.Module):\n",
    "    \n",
    "    def __init__(self, z_dim=20):\n",
    "        super(Encoder, self).__init__()\n",
    "        \n",
    "        self.layer1 = nn.Sequential(\n",
    "            nn.Conv2d(1, 32, kernel_size=3, stride=1), # 白黒なので　input_channel = 1\n",
    "            nn.LeakyReLU(0.1, inplace=True))\n",
    "        \n",
    "        self.layer2 = nn.Sequential(\n",
    "            nn.Conv2d(32, 64, kernel_size=3, stride=2, padding=1),\n",
    "            nn.BatchNorm2d(64),\n",
    "            nn.LeakyReLU(0.1, inplace=True))\n",
    "        \n",
    "        self.layer3 = nn.Sequential(\n",
    "            nn.Conv2d(64, 128, kernel_size=3, stride=2, padding=1),\n",
    "            nn.BatchNorm2d(128),\n",
    "            nn.LeakyReLU(0.1, inplace=True))\n",
    "        \n",
    "        # ここまでで画像サイズが7×7\n",
    "        self.last = nn.Linear(128*7*7, z_dim)\n",
    "        \n",
    "        \n",
    "    def forward(self, x):\n",
    "        out = self.layer1(x)\n",
    "        out = self.layer2(out)\n",
    "        out = self.layer3(out)\n",
    "        \n",
    "        # LInearに入力するために整形する\n",
    "        out = out.view(-1, 128*7*7)\n",
    "        out = self.last(out)\n",
    "        \n",
    "        return out"
   ]
  },
  {
   "cell_type": "code",
   "execution_count": 12,
   "metadata": {},
   "outputs": [
    {
     "name": "stdout",
     "output_type": "stream",
     "text": [
      "torch.Size([2, 20])\n",
      "tensor([[-0.0669, -0.2844, -0.3601,  0.1404, -0.2922, -0.4834, -0.0025,  0.0258,\n",
      "         -0.1298, -0.2612, -0.4292, -0.2584, -0.6141, -0.1440,  0.1142,  0.2175,\n",
      "          0.0730,  0.0323, -0.7176, -0.7410],\n",
      "        [ 0.4822,  0.3682, -0.0647, -0.0773,  0.0989,  0.3012,  0.8054,  0.4398,\n",
      "          1.0848, -0.2809,  0.0619, -0.3179, -0.2963, -0.1192,  0.6562, -0.1707,\n",
      "          0.1287, -0.6156,  0.3127, -0.4818]], grad_fn=<AddmmBackward>)\n"
     ]
    }
   ],
   "source": [
    "# 動作確認\n",
    "E = Encoder(z_dim=20)\n",
    "\n",
    "x = fake_images # とりあえず代用\n",
    "\n",
    "z = E(x)\n",
    "\n",
    "print(z.shape)\n",
    "print(z)\n"
   ]
  },
  {
   "cell_type": "markdown",
   "metadata": {},
   "source": [
    "### DataLoaderの実装\n",
    "DCGANのDataLoaderと同じだが画像サイズが異なるのでパスだけ変える"
   ]
  },
  {
   "cell_type": "code",
   "execution_count": 13,
   "metadata": {},
   "outputs": [],
   "source": [
    "def make_datapath_list():\n",
    "    \n",
    "    train_img_list = list()\n",
    "    \n",
    "    for img_idx in range(200):\n",
    "        img_path = \"./data/img_78_28size/img_7_\" + str(img_idx) + \".jpg\"\n",
    "        train_img_list.append(img_path)\n",
    "        \n",
    "        img_path = \"./data/img_78_28size/img_8_\" + str(img_idx) + \".jpg\"\n",
    "        train_img_list.append(img_path)\n",
    "        \n",
    "    return train_img_list\n",
    "\n",
    "\n",
    "class ImageTransform():\n",
    "    \"\"\"\n",
    "    画像クラスの前処理\n",
    "    \"\"\"\n",
    "    def __init__(self, mean, std):\n",
    "        self.data_transform = transforms.Compose([\n",
    "            transforms.ToTensor(),\n",
    "            transforms.Normalize(mean, std)\n",
    "        ])\n",
    "    \n",
    "    def __call__(self, img):\n",
    "        return self.data_transform(img)\n",
    "    \n",
    "\n",
    "class GAN_Img_Dataset(data.Dataset):\n",
    "    \"\"\"\n",
    "    画像のDataset\n",
    "    \"\"\"\n",
    "    def __init__(self, file_list, transform):\n",
    "        self.file_list = file_list\n",
    "        self.transform = transform\n",
    "            \n",
    "    def __len__(self):\n",
    "        \"\"\"画像の枚数を返す\"\"\"\n",
    "        return len(self.file_list)\n",
    "    \n",
    "    def __getitem__(self,index):\n",
    "        \"\"\"前処理をした画像のTensor形式のデータを取得\"\"\"\n",
    "        \n",
    "        img_path = self.file_list[index]\n",
    "        img = Image.open(img_path) #H,W,C\n",
    "        \n",
    "        # 前処理\n",
    "        img_transformed = self.transform(img)\n",
    "        \n",
    "        return img_transformed"
   ]
  },
  {
   "cell_type": "code",
   "execution_count": 14,
   "metadata": {},
   "outputs": [],
   "source": [
    "# DataLoaderの作成\n",
    "train_img_list = make_datapath_list()\n",
    "# print(train_img_list)\n",
    "\n",
    "# Datasetの作成\n",
    "mean = (0.5,)\n",
    "std = (0.5,)\n",
    "train_dataset = GAN_Img_Dataset(train_img_list, ImageTransform(mean, std))\n",
    "\n",
    "# DataLoaderの作成\n",
    "batch_size = 64\n",
    "\n",
    "train_dataloader = torch.utils.data.DataLoader(train_dataset,\n",
    "                                              batch_size = batch_size, shuffle=True)"
   ]
  },
  {
   "cell_type": "code",
   "execution_count": 15,
   "metadata": {},
   "outputs": [
    {
     "name": "stdout",
     "output_type": "stream",
     "text": [
      "torch.Size([64, 1, 28, 28])\n"
     ]
    },
    {
     "data": {
      "image/png": "[encoded data removed]",
      "text/plain": [
       "<Figure size 432x288 with 1 Axes>"
      ]
     },
     "metadata": {
      "needs_background": "light"
     },
     "output_type": "display_data"
    }
   ],
   "source": [
    "#動作確認\n",
    "batch_iterator = iter(train_dataloader)\n",
    "imges = next(batch_iterator)\n",
    "print(imges.size())\n",
    "img_transformed = imges[0][0].detach().numpy()\n",
    "plt.imshow(img_transformed,'gray')\n",
    "plt.show()"
   ]
  },
  {
   "cell_type": "markdown",
   "metadata": {},
   "source": [
    "### Efficient GANの学習\n",
    "Encoderを追加する以外はDCGANと同じであるが，Discriminatorの学習率を低めに設定してある．これはDiscriminatorはGeneratorとEncoderの２つに対して学習をするので学習する機会が多いので学習率を下げることによって１つだけが学習が過度に進んで全体として学習が進まなくなるのを防ぐ"
   ]
  },
  {
   "cell_type": "code",
   "execution_count": 16,
   "metadata": {},
   "outputs": [],
   "source": [
    "def train_model(G, D, E, dataloader, num_epochs):\n",
    "    \n",
    "    device = torch.device(\"cuda:0\" if torch.cuda.is_available() else \"cpu\")\n",
    "    print(\"使用デバイス : \", device)\n",
    "    \n",
    "    # 最適化手法の適用\n",
    "    lr_ge = 0.0001\n",
    "    lr_d = lr_ge/4.0\n",
    "    beta1, beta2 = 0.5, 0.999\n",
    "    g_optimizer = torch.optim.Adam(G.parameters(), lr_ge, [beta1, beta2])\n",
    "    d_optimizer = torch.optim.Adam(D.parameters(), lr_d, [beta1, beta2])\n",
    "    e_optimizer = torch.optim.Adam(E.parameters(), lr_ge, [beta1, beta2])\n",
    "    \n",
    "    # 損失関数\n",
    "    criterion = nn.BCEWithLogitsLoss(reduction=\"mean\")\n",
    "    \n",
    "    z_dim = 20\n",
    "    mini_batch_size = 64\n",
    "    \n",
    "    G.to(device)\n",
    "    D.to(device)\n",
    "    E.to(device)\n",
    "    \n",
    "    G.train()\n",
    "    D.train()\n",
    "    E.train()\n",
    "    \n",
    "    torch.backends.cudnn.benchmark = True\n",
    "    \n",
    "    num_train_imgs = len(dataloader.dataset)\n",
    "    batch_size = dataloader.batch_size\n",
    "    \n",
    "    # イテレーションのカウンタをセット\n",
    "    iteration = 1\n",
    "    logs = []\n",
    "    \n",
    "    for epoch in range(num_epochs):\n",
    "        \n",
    "        t_epoch_start = time.time()\n",
    "        epoch_g_loss = 0.0\n",
    "        epoch_d_loss = 0.0\n",
    "        epoch_e_loss = 0.0\n",
    "        if ((epoch+1)%50==0):\n",
    "            print(\"-----------------------------------\")\n",
    "            print(\"Epoch {}/{} \".format(epoch, num_epochs))\n",
    "            print(\"-----------------------------------\")\n",
    "            print(\"---  (train)  ---\")\n",
    "\n",
    "        # dataloader からmini_batchずつデータを取り出す\n",
    "        for imges in dataloader:\n",
    "            \n",
    "            # batch_norm の　エラーを回避\n",
    "            if imges.size()[0] == 1:\n",
    "                continue\n",
    "                \n",
    "            \n",
    "            mini_batch_size = imges.size()[0]\n",
    "            label_real = torch.full((mini_batch_size,),1).to(device)\n",
    "            label_fake = torch.full((mini_batch_size,),0).to(device)\n",
    "            \n",
    "            imges = imges.to(device)\n",
    "            \n",
    "            \n",
    "            \"\"\"D\"\"\"\n",
    "            # 前半部分\n",
    "            z_out_real = E(imges)\n",
    "            d_out_real, _ = D(imges, z_out_real)\n",
    "\n",
    "            #　後半部分\n",
    "            input_z = torch.randn(mini_batch_size, z_dim).to(device)\n",
    "            fake_images = G(input_z)\n",
    "            d_out_fake, _ = D(fake_images, input_z)\n",
    "\n",
    "            # 誤差の計算\n",
    "            d_loss_real = criterion(d_out_real.view(-1), label_real)\n",
    "            d_loss_fake = criterion(d_out_fake.view(-1), label_fake)\n",
    "            d_loss = d_loss_real + d_loss_fake\n",
    "        \n",
    "            #  backward\n",
    "            d_optimizer.zero_grad()\n",
    "            d_loss.backward()\n",
    "            d_optimizer.step()\n",
    "            \n",
    "\n",
    "            \"\"\"G\"\"\"\n",
    "            # 偽画像を生成して判定\n",
    "            input_z = torch.randn(mini_batch_size, z_dim).to(device)\n",
    "            fake_images = G(input_z)\n",
    "            d_out_fake, _ = D(fake_images, input_z)\n",
    "\n",
    "            # 誤差の計算\n",
    "            g_loss = criterion(d_out_fake.view(-1), label_real)\n",
    "\n",
    "            # backward\n",
    "            g_optimizer.zero_grad()\n",
    "            g_loss.backward()\n",
    "            g_optimizer.step()\n",
    "             \n",
    "            \n",
    "            \"\"\"E\"\"\"\n",
    "            z_out_real = E(imges)\n",
    "            d_out_real, _ = D(imges, z_out_real)\n",
    "\n",
    "            # 誤差の計算\n",
    "            e_loss = criterion(d_out_real.view(-1), label_fake)\n",
    "\n",
    "            # backward\n",
    "            e_optimizer.zero_grad()\n",
    "            e_loss.backward()\n",
    "            e_optimizer.step()\n",
    "            \n",
    "            \n",
    "            \"\"\"記録\"\"\"\n",
    "            epoch_d_loss += d_loss.item()\n",
    "            epoch_e_loss += e_loss.item()\n",
    "            epoch_g_loss += g_loss.item()\n",
    "            iteration += 1\n",
    "        \n",
    "        if ((epoch+1)%100==0):\n",
    "            t_epoch_finish = time.time()\n",
    "            print('-------------')\n",
    "            print('epoch {} || Epoch_D_Loss:{:.4f} ||Epoch_G_Loss:{:.4f} ||Epoch_E_Loss:{:.4f}'.format(\n",
    "                epoch, epoch_d_loss/batch_size, epoch_g_loss/batch_size, epoch_e_loss/batch_size))\n",
    "            print('timer:  {:.4f} sec.'.format(t_epoch_finish - t_epoch_start))\n",
    "            t_epoch_start = time.time()\n",
    "            \n",
    "            if ((epoch+1)%num_epochs==0):\n",
    "                torch.save(G.state_dict(), \"weights/bigan_g_\"+str(epoch+1) + \".pth\")\n",
    "                torch.save(D.state_dict(), \"weights/bigan_d_\"+str(epoch+1) + \".pth\")\n",
    "                torch.save(E.state_dict(), \"weights/bigan_e_\"+str(epoch+1) + \".pth\")\n",
    "            \n",
    "            \n",
    "    print(\"総イテレーション回数:\", iteration)\n",
    "    \n",
    "    return G, D, E"
   ]
  },
  {
   "cell_type": "code",
   "execution_count": 17,
   "metadata": {},
   "outputs": [],
   "source": [
    "# ネットワークの初期化\n",
    "def weights_init(m):\n",
    "    classname = m.__class__.__name__\n",
    "    if classname.find(\"Conv\") != -1:\n",
    "        nn.init.normal_(m.weight.data, 0.0, 0.02)\n",
    "        nn.init.constant_(m.bias.data, 0)\n",
    "        \n",
    "    elif classname.find(\"BatchNorm\") != -1:\n",
    "        nn.init.normal_(m.weight.data, 0.0, 0.02)\n",
    "        nn.init.constant_(m.bias.data, 0)\n",
    "    elif classname.find(\"Linear\") != -1:\n",
    "        m.bias.data.fill_(0)"
   ]
  },
  {
   "cell_type": "code",
   "execution_count": 27,
   "metadata": {},
   "outputs": [
    {
     "name": "stdout",
     "output_type": "stream",
     "text": [
      "<All keys matched successfully>\n",
      "<All keys matched successfully>\n",
      "<All keys matched successfully>\n",
      "ネットワークのモデル適用完了\n"
     ]
    }
   ],
   "source": [
    "init_flag = 1\n",
    "model_epoch_num = 1500\n",
    "\n",
    "G = Generator(z_dim = 20)\n",
    "D = Discriminator(z_dim = 20)\n",
    "E = Encoder(z_dim = 20)\n",
    "\n",
    "if init_flag == 0:\n",
    "\n",
    "    # 初期化の実施\n",
    "    G.apply(weights_init)\n",
    "    E.apply(weights_init)\n",
    "    D.apply(weights_init)\n",
    "\n",
    "    print(\"ネットワークの初期化完了\")\n",
    "    \n",
    "else:\n",
    "\n",
    "#     学習済みモデルの適用\n",
    "    G.to(device)\n",
    "    D.to(device)\n",
    "    E.to(device)\n",
    "\n",
    "    g_weights = torch.load(\"weights/bigan_g_\"+ str(model_epoch_num)+ \".pth\",\n",
    "                            map_location={'cuda:0': 'cpu'})\n",
    "    d_weights = torch.load(\"weights/bigan_d_\"+ str(model_epoch_num)+ \".pth\",\n",
    "                            map_location={'cuda:0': 'cpu'})\n",
    "    e_weights = torch.load(\"weights/bigan_e_\"+ str(model_epoch_num)+ \".pth\",\n",
    "                            map_location={'cuda:0': 'cpu'})\n",
    "\n",
    "\n",
    "    print(G.load_state_dict(g_weights))\n",
    "    print(D.load_state_dict(d_weights))\n",
    "    print(E.load_state_dict(e_weights))\n",
    "    \n",
    "    G_update = G\n",
    "    D_update = D\n",
    "    E_update = E\n",
    "\n",
    "    print(\"ネットワークのモデル適用完了\")\n"
   ]
  },
  {
   "cell_type": "code",
   "execution_count": 23,
   "metadata": {},
   "outputs": [
    {
     "name": "stdout",
     "output_type": "stream",
     "text": [
      "使用デバイス :  cuda:0\n",
      "-----------------------------------\n",
      "Epoch 49/1500 \n",
      "-----------------------------------\n",
      "---  (train)  ---\n",
      "-----------------------------------\n",
      "Epoch 99/1500 \n",
      "-----------------------------------\n",
      "---  (train)  ---\n",
      "-------------\n",
      "epoch 99 || Epoch_D_Loss:0.0259 ||Epoch_G_Loss:0.3344 ||Epoch_E_Loss:0.3489\n",
      "timer:  1.0023 sec.\n",
      "-----------------------------------\n",
      "Epoch 149/1500 \n",
      "-----------------------------------\n",
      "---  (train)  ---\n",
      "-----------------------------------\n",
      "Epoch 199/1500 \n",
      "-----------------------------------\n",
      "---  (train)  ---\n",
      "-------------\n",
      "epoch 199 || Epoch_D_Loss:0.1382 ||Epoch_G_Loss:0.1236 ||Epoch_E_Loss:0.1339\n",
      "timer:  1.2601 sec.\n",
      "-----------------------------------\n",
      "Epoch 249/1500 \n",
      "-----------------------------------\n",
      "---  (train)  ---\n",
      "-----------------------------------\n",
      "Epoch 299/1500 \n",
      "-----------------------------------\n",
      "---  (train)  ---\n",
      "-------------\n",
      "epoch 299 || Epoch_D_Loss:0.1300 ||Epoch_G_Loss:0.1201 ||Epoch_E_Loss:0.1249\n",
      "timer:  1.0201 sec.\n",
      "-----------------------------------\n",
      "Epoch 349/1500 \n",
      "-----------------------------------\n",
      "---  (train)  ---\n",
      "-----------------------------------\n",
      "Epoch 399/1500 \n",
      "-----------------------------------\n",
      "---  (train)  ---\n",
      "-------------\n",
      "epoch 399 || Epoch_D_Loss:0.1448 ||Epoch_G_Loss:0.1023 ||Epoch_E_Loss:0.1095\n",
      "timer:  1.0670 sec.\n",
      "-----------------------------------\n",
      "Epoch 449/1500 \n",
      "-----------------------------------\n",
      "---  (train)  ---\n",
      "-----------------------------------\n",
      "Epoch 499/1500 \n",
      "-----------------------------------\n",
      "---  (train)  ---\n",
      "-------------\n",
      "epoch 499 || Epoch_D_Loss:0.1214 ||Epoch_G_Loss:0.1141 ||Epoch_E_Loss:0.1199\n",
      "timer:  0.6738 sec.\n",
      "-----------------------------------\n",
      "Epoch 549/1500 \n",
      "-----------------------------------\n",
      "---  (train)  ---\n",
      "-----------------------------------\n",
      "Epoch 599/1500 \n",
      "-----------------------------------\n",
      "---  (train)  ---\n",
      "-------------\n",
      "epoch 599 || Epoch_D_Loss:0.1707 ||Epoch_G_Loss:0.0787 ||Epoch_E_Loss:0.0893\n",
      "timer:  1.0983 sec.\n",
      "-----------------------------------\n",
      "Epoch 649/1500 \n",
      "-----------------------------------\n",
      "---  (train)  ---\n",
      "-----------------------------------\n",
      "Epoch 699/1500 \n",
      "-----------------------------------\n",
      "---  (train)  ---\n",
      "-------------\n",
      "epoch 699 || Epoch_D_Loss:0.1284 ||Epoch_G_Loss:0.1006 ||Epoch_E_Loss:0.1183\n",
      "timer:  1.0291 sec.\n",
      "-----------------------------------\n",
      "Epoch 749/1500 \n",
      "-----------------------------------\n",
      "---  (train)  ---\n",
      "-----------------------------------\n",
      "Epoch 799/1500 \n",
      "-----------------------------------\n",
      "---  (train)  ---\n",
      "-------------\n",
      "epoch 799 || Epoch_D_Loss:0.1210 ||Epoch_G_Loss:0.1202 ||Epoch_E_Loss:0.1198\n",
      "timer:  1.0196 sec.\n",
      "-----------------------------------\n",
      "Epoch 849/1500 \n",
      "-----------------------------------\n",
      "---  (train)  ---\n",
      "-----------------------------------\n",
      "Epoch 899/1500 \n",
      "-----------------------------------\n",
      "---  (train)  ---\n",
      "-------------\n",
      "epoch 899 || Epoch_D_Loss:0.1287 ||Epoch_G_Loss:0.1106 ||Epoch_E_Loss:0.1222\n",
      "timer:  1.4119 sec.\n",
      "-----------------------------------\n",
      "Epoch 949/1500 \n",
      "-----------------------------------\n",
      "---  (train)  ---\n",
      "-----------------------------------\n",
      "Epoch 999/1500 \n",
      "-----------------------------------\n",
      "---  (train)  ---\n",
      "-------------\n",
      "epoch 999 || Epoch_D_Loss:0.1092 ||Epoch_G_Loss:0.1120 ||Epoch_E_Loss:0.1245\n",
      "timer:  1.1829 sec.\n",
      "-----------------------------------\n",
      "Epoch 1049/1500 \n",
      "-----------------------------------\n",
      "---  (train)  ---\n",
      "-----------------------------------\n",
      "Epoch 1099/1500 \n",
      "-----------------------------------\n",
      "---  (train)  ---\n",
      "-------------\n",
      "epoch 1099 || Epoch_D_Loss:0.1146 ||Epoch_G_Loss:0.1310 ||Epoch_E_Loss:0.1179\n",
      "timer:  1.0081 sec.\n",
      "-----------------------------------\n",
      "Epoch 1149/1500 \n",
      "-----------------------------------\n",
      "---  (train)  ---\n",
      "-----------------------------------\n",
      "Epoch 1199/1500 \n",
      "-----------------------------------\n",
      "---  (train)  ---\n",
      "-------------\n",
      "epoch 1199 || Epoch_D_Loss:0.1516 ||Epoch_G_Loss:0.0978 ||Epoch_E_Loss:0.1079\n",
      "timer:  0.9658 sec.\n",
      "-----------------------------------\n",
      "Epoch 1249/1500 \n",
      "-----------------------------------\n",
      "---  (train)  ---\n",
      "-----------------------------------\n",
      "Epoch 1299/1500 \n",
      "-----------------------------------\n",
      "---  (train)  ---\n",
      "-------------\n",
      "epoch 1299 || Epoch_D_Loss:0.1078 ||Epoch_G_Loss:0.1486 ||Epoch_E_Loss:0.1407\n",
      "timer:  1.0945 sec.\n",
      "-----------------------------------\n",
      "Epoch 1349/1500 \n",
      "-----------------------------------\n",
      "---  (train)  ---\n",
      "-----------------------------------\n",
      "Epoch 1399/1500 \n",
      "-----------------------------------\n",
      "---  (train)  ---\n",
      "-------------\n",
      "epoch 1399 || Epoch_D_Loss:0.1082 ||Epoch_G_Loss:0.1201 ||Epoch_E_Loss:0.1445\n",
      "timer:  0.9459 sec.\n",
      "-----------------------------------\n",
      "Epoch 1449/1500 \n",
      "-----------------------------------\n",
      "---  (train)  ---\n",
      "-----------------------------------\n",
      "Epoch 1499/1500 \n",
      "-----------------------------------\n",
      "---  (train)  ---\n",
      "-------------\n",
      "epoch 1499 || Epoch_D_Loss:0.1172 ||Epoch_G_Loss:0.1316 ||Epoch_E_Loss:0.1409\n",
      "timer:  1.1636 sec.\n",
      "総イテレーション回数: 10501\n"
     ]
    }
   ],
   "source": [
    "num_epochs  = 1500\n",
    "G_update, D_update, E_update = train_model(\n",
    "    G, D, E, dataloader=train_dataloader, num_epochs=num_epochs)"
   ]
  },
  {
   "cell_type": "code",
   "execution_count": 28,
   "metadata": {},
   "outputs": [
    {
     "data": {
      "image/png": "[encoded data removed]",
      "text/plain": [
       "<Figure size 1080x432 with 10 Axes>"
      ]
     },
     "metadata": {
      "needs_background": "light"
     },
     "output_type": "display_data"
    }
   ],
   "source": [
    "# 生成画像と訓練データを可視化する\n",
    "# device = torch.device(\"cuda:0\" if torch.cuda.is_available() else \"cpu\")\n",
    "\n",
    "# 入力の乱数生成\n",
    "batch_size = 8\n",
    "z_dim = 20\n",
    "fixed_z = torch.randn(batch_size, z_dim)\n",
    "fake_images = G_update(fixed_z.to(device))\n",
    "\n",
    "# 訓練データ\n",
    "batch_iterator = iter(train_dataloader)  # イテレータに変換\n",
    "imges = next(batch_iterator)  # 1番目の要素を取り出す\n",
    "\n",
    "\n",
    "# 出力\n",
    "fig = plt.figure(figsize=(15, 6))\n",
    "for i in range(0, 5):\n",
    "    # 上段に訓練データを\n",
    "    plt.subplot(2, 5, i+1)\n",
    "    plt.imshow(imges[i][0].cpu().detach().numpy(), 'gray')\n",
    "\n",
    "    # 下段に生成データを表示する\n",
    "    plt.subplot(2, 5, 5+i+1)\n",
    "    plt.imshow(fake_images[i][0].cpu().detach().numpy(), 'gray')"
   ]
  },
  {
   "cell_type": "markdown",
   "metadata": {},
   "source": [
    "### Efficient GANによる異常検知"
   ]
  },
  {
   "cell_type": "code",
   "execution_count": 43,
   "metadata": {},
   "outputs": [],
   "source": [
    "# DataLoaderの作成\n",
    "\n",
    "def make_test_datapath_list():\n",
    "    \n",
    "    test_img_list = list()\n",
    "    \n",
    "    for img_idx in range(5):\n",
    "        img_path = \"./data/test_28size/img_7_\" + str(img_idx) + \".jpg\"\n",
    "        test_img_list.append(img_path)\n",
    "        \n",
    "        img_path = \"./data/test_28size/img_8_\" + str(img_idx) + \".jpg\"\n",
    "        test_img_list.append(img_path)\n",
    "        \n",
    "        img_path = \"./data/test_28size/img_2_\" + str(img_idx) + \".jpg\"\n",
    "        test_img_list.append(img_path)\n",
    "    \n",
    "    return test_img_list\n",
    "\n",
    "# ファイルリストの作成\n",
    "test_img_list = make_test_datapath_list()\n",
    "\n",
    "# Datasetを作成\n",
    "mean = (0.5,)\n",
    "std = (0.5,)\n",
    "test_dataset = GAN_Img_Dataset(\n",
    "    file_list=test_img_list, transform = ImageTransform(mean, std))\n",
    "\n",
    "\n",
    "# DataLoaderの作成\n",
    "\n",
    "batch_size = 5\n",
    "\n",
    "test_dataloader = torch.utils.data.DataLoader(\n",
    "    test_dataset, batch_size=batch_size, shuffle=True)"
   ]
  },
  {
   "cell_type": "code",
   "execution_count": 52,
   "metadata": {},
   "outputs": [
    {
     "data": {
      "text/plain": [
       "['./data/test_28size/img_7_0.jpg',\n",
       " './data/test_28size/img_8_0.jpg',\n",
       " './data/test_28size/img_2_0.jpg',\n",
       " './data/test_28size/img_7_1.jpg',\n",
       " './data/test_28size/img_8_1.jpg',\n",
       " './data/test_28size/img_2_1.jpg',\n",
       " './data/test_28size/img_7_2.jpg',\n",
       " './data/test_28size/img_8_2.jpg',\n",
       " './data/test_28size/img_2_2.jpg',\n",
       " './data/test_28size/img_7_3.jpg',\n",
       " './data/test_28size/img_8_3.jpg',\n",
       " './data/test_28size/img_2_3.jpg',\n",
       " './data/test_28size/img_7_4.jpg',\n",
       " './data/test_28size/img_8_4.jpg',\n",
       " './data/test_28size/img_2_4.jpg']"
      ]
     },
     "execution_count": 52,
     "metadata": {},
     "output_type": "execute_result"
    }
   ],
   "source": [
    "test_img_list"
   ]
  },
  {
   "cell_type": "markdown",
   "metadata": {},
   "source": [
    "### 異常度を検出するAnomaly_scoreを実装\n",
    "以下の実装での```fake_img```はテスト画像xをEに入力して求めた入力ノイズzをGに再構成したものである．\n",
    "\n",
    "入力画像x → E(x)=z(入力ノイズ) → z → G(z) = fake_img → D(fake_img) = y"
   ]
  },
  {
   "cell_type": "code",
   "execution_count": 59,
   "metadata": {},
   "outputs": [
    {
     "data": {
      "image/png": "[encoded data removed]",
      "text/plain": [
       "<Figure size 1080x432 with 5 Axes>"
      ]
     },
     "metadata": {
      "needs_background": "light"
     },
     "output_type": "display_data"
    }
   ],
   "source": [
    "# テストデータの確認\n",
    "batch_iterator = iter(test_dataloader)  # イテレータに変換\n",
    "imges = next(batch_iterator)  # 1番目の要素を取り出す\n",
    "\n",
    "fig = plt.figure(figsize=(15, 6))\n",
    "for i in range(0, 5):\n",
    "    # 上段に訓練データを\n",
    "    plt.subplot(2, 5, i+1)\n",
    "    plt.imshow(imges[i][0].cpu().detach().numpy(), 'gray')"
   ]
  },
  {
   "cell_type": "code",
   "execution_count": 54,
   "metadata": {},
   "outputs": [],
   "source": [
    "def Anomaly_score(x, fake_img, z_out_real, D, Lambda = 0.1):\n",
    "    \n",
    "    # テスト画像x と　生成画像 fake_img のピクセルレベルの差異を出す\n",
    "    residual_loss = torch.abs(x-fake_img)\n",
    "    residual_loss = residual_loss.view(residual_loss.size()[0], -1)\n",
    "    residual_loss = torch.sum(residual_loss, dim=1)\n",
    "    \n",
    "    # テスト画像と生成画像をDiscriminatorに判断させる\n",
    "    _, x_feature = D(x, z_out_real)\n",
    "    _, G_feature = D(fake_img, z_out_real)\n",
    "    \"\"\"この部分が変化\"\"\"\n",
    "    \n",
    "    # discrimination_loss を residual_loss と同様に求める\n",
    "    discrimination_loss = torch.abs(x_feature - G_feature)\n",
    "    discrimination_loss = discrimination_loss.view(discrimination_loss.size()[0], -1)\n",
    "    discrimination_loss = torch.sum(discrimination_loss, dim=1)\n",
    "    \n",
    "#     # mini_batchごとにlossを求める\n",
    "    loss_each = (1-Lambda)*residual_loss + Lambda*discrimination_loss\n",
    "    \n",
    "    # mini_batch全部の損失を求める\n",
    "    total_loss = torch.sum(loss_each)\n",
    "    \n",
    "    return total_loss, loss_each, residual_loss"
   ]
  },
  {
   "cell_type": "code",
   "execution_count": 60,
   "metadata": {},
   "outputs": [
    {
     "name": "stdout",
     "output_type": "stream",
     "text": [
      "total loss： [226. 205. 266. 155. 196.]\n"
     ]
    },
    {
     "data": {
      "image/png": "[encoded data removed]",
      "text/plain": [
       "<Figure size 1080x432 with 10 Axes>"
      ]
     },
     "metadata": {
      "needs_background": "light"
     },
     "output_type": "display_data"
    }
   ],
   "source": [
    "# 異常検知したい画像\n",
    "x = imges[0:5]\n",
    "x = x.to(device)\n",
    "\n",
    "# 教師データの画像をエンコードしてzにしてから、Gで生成\n",
    "z_out_real = E_update(x)\n",
    "imges_reconstract = G_update(z_out_real)\n",
    "\n",
    "# 損失を求める\n",
    "loss, loss_each, residual_loss_each = Anomaly_score(\n",
    "    x, imges_reconstract, z_out_real, D_update, Lambda=0.1)\n",
    "\n",
    "# 損失の計算。トータルの損失\n",
    "loss_each = loss_each.cpu().detach().numpy()\n",
    "print(\"total loss：\", np.round(loss_each, 0))\n",
    "\n",
    "# 画像を可視化\n",
    "fig = plt.figure(figsize=(15, 6))\n",
    "for i in range(0, 5):\n",
    "    # 上段に訓練データを\n",
    "    plt.subplot(2, 5, i+1)\n",
    "    plt.imshow(imges[i][0].cpu().detach().numpy(), 'gray')\n",
    "\n",
    "    # 下段に生成データを表示する\n",
    "    plt.subplot(2, 5, 5+i+1)\n",
    "    plt.imshow(imges_reconstract[i][0].cpu().detach().numpy(), 'gray')"
   ]
  },
  {
   "cell_type": "code",
   "execution_count": null,
   "metadata": {},
   "outputs": [],
   "source": []
  }
 ],
 "metadata": {
  "kernelspec": {
   "display_name": "Python 3",
   "language": "python",
   "name": "python3"
  },
  "language_info": {
   "codemirror_mode": {
    "name": "ipython",
    "version": 3
   },
   "file_extension": ".py",
   "mimetype": "text/x-python",
   "name": "python",
   "nbconvert_exporter": "python",
   "pygments_lexer": "ipython3",
   "version": "3.6.9"
  },
  "toc": {
   "base_numbering": 1,
   "nav_menu": {},
   "number_sections": true,
   "sideBar": true,
   "skip_h1_title": false,
   "title_cell": "Table of Contents",
   "title_sidebar": "Contents",
   "toc_cell": false,
   "toc_position": {
    "height": "calc(100% - 180px)",
    "left": "10px",
    "top": "150px",
    "width": "288px"
   },
   "toc_section_display": true,
   "toc_window_display": true
  }
 },
 "nbformat": 4,
 "nbformat_minor": 2
}
