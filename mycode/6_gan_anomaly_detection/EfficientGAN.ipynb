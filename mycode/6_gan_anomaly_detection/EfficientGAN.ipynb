{
 "cells": [
  {
   "cell_type": "markdown",
   "metadata": {},
   "source": [
    "# GANによる異常検知"
   ]
  },
  {
   "cell_type": "code",
   "execution_count": 2,
   "metadata": {},
   "outputs": [
    {
     "name": "stdout",
     "output_type": "stream",
     "text": [
      "/bin/sh: gpustat: command not found\r\n"
     ]
    }
   ],
   "source": [
    "!gpustat"
   ]
  },
  {
   "cell_type": "code",
   "execution_count": 4,
   "metadata": {},
   "outputs": [],
   "source": [
    "import os\n",
    "os.environ[\"CUDA_VISIBLE_DEVICES\"]=\"2\""
   ]
  },
  {
   "cell_type": "code",
   "execution_count": 5,
   "metadata": {},
   "outputs": [],
   "source": [
    "# パッケージのimport\n",
    "import random\n",
    "import math\n",
    "import time\n",
    "import pandas as pd\n",
    "import numpy as np\n",
    "from PIL import Image\n",
    "\n",
    "import torch\n",
    "import torch.utils.data as data\n",
    "import torch.nn as nn\n",
    "import torch.nn.functional as F\n",
    "import torch.optim as optim\n",
    "\n",
    "from torchvision import transforms\n",
    "%config IPCompleter.greedy=True\n",
    "\n",
    "import matplotlib.pyplot as plt\n",
    "%matplotlib inline"
   ]
  },
  {
   "cell_type": "code",
   "execution_count": 7,
   "metadata": {},
   "outputs": [],
   "source": [
    "device = \"cpu\"\n",
    "# device = torch.device(\"cuda:0\" if torch.cuda.is_available() else \"cpu\")"
   ]
  },
  {
   "cell_type": "code",
   "execution_count": 8,
   "metadata": {},
   "outputs": [],
   "source": [
    "# Setup seeds\n",
    "torch.manual_seed(1234)\n",
    "np.random.seed(1234)\n",
    "random.seed(1234)"
   ]
  },
  {
   "cell_type": "markdown",
   "metadata": {},
   "source": [
    "## 6-3 Efficient GANの概要\n",
    "AnoGANではテスト画像に対して異常検知をするのにまずテスト画像と最も近い画像を作ることのできる生成ノイズを学習する必要があり，異常検知に時間がかかってしまう問題があった．本節ではその問題を解決するためにEfficient GANを理解する"
   ]
  },
  {
   "cell_type": "markdown",
   "metadata": {},
   "source": [
    "### Efficient GAN\n",
    "Efficient GANではテスト画像から生成ノイズzを生成するエンコーダEを新たに作る．つまりこれは生成器Gとは逆の作用をしていて${\\rm G}^{-1}$と表すことができる．このEについては通常通りGANを生成した後に独立に作ろうとすると上手くいかないらしい．なのでここではG,D,Eを同時に作る手順を理解する．"
   ]
  },
  {
   "cell_type": "markdown",
   "metadata": {},
   "source": [
    "### Encoderを作る方法，後から作る作戦が上手くいかない理由\n",
    "- [Adversarially learned inference](https://arxiv.org/pdf/1606.00704.pdf)\n",
    "- [Adversarially learned inference GitHub page](https://ishmaelbelghazi.github.io/ALI/)\n",
    "\n",
    "\n",
    "詳しくは上のサイトの図を参照するのがわかりやすい．それぞれの方法で作成したEncoderについて二次元データ(本来は画像を用いるところ)を入力して，生成ノイズzの空間に写像させた時に本来GANの入力ノイズは平均0,　分散1の均一な空間になると基づいて設計されているが適切な学習をさせていないEncoderの写像はそのような空間になっていない．つまりこれは平均0, 分散1の生成ノイズに対して上手く画像を生成できないことを意味している．\n",
    "\n",
    "この直感的な理由の理解としては，Generatorが入力データの平均や分散を完全に理解していれば問題ないがそれは現実的には困難であり，不完全に学習したGeneratorを基にして学習するよりは本来学習の基にすべきである教師データを基にEncoderも学習するべきであるというように考えることができる．\n"
   ]
  },
  {
   "cell_type": "markdown",
   "metadata": {},
   "source": [
    "### EncoderをGANと同時に作る方法\n",
    "今回はEncoderを教師データの画像xと関与させるために**BiGAN(Bidiretional GAN)** と呼ばれる仕組みを利用する．\n",
    "BiGANではDiscriminatorに対して$(x, E(x))$と$(G(z), z)$を入力する．\n",
    "\n",
    "つまり元々のDCGANの損失関数とBiGANの損失関数を比較すると\n",
    "- Discriminator\n",
    "$$\n",
    "-\\sum_{i=1}^M\\log D(x) -\\sum_{j=1}^M \\log(1-D(G(z))\n",
    "$$\n",
    "$$\n",
    "-\\sum_{i=1}^M[\\log  D(x_i, E(x_i)-\\sum_{j=1}^M  \\log(1-D(G(z_j), z_j))]\n",
    "$$\n",
    "\n",
    "- Generator\n",
    "$$\n",
    "-\\sum_{j=1}^M\\log D(G(z_j))\n",
    "$$\n",
    "$$\n",
    "-\\sum_{j=1}^M\\log D(G(z_j), z_j)\n",
    "$$\n",
    "\n",
    "ここでEncoderの損失関数を考えると，EncoderはDiscriminatorを騙せると嬉しいので，Discriminatorの損失関数にマイナスをかけてEncoderに関与するところだけを取り出すと\n",
    "- Encoder\n",
    "\n",
    "$\\sum_{i=1}^M\\log D(x_i, E(x_i))$\n",
    "となる．しかしGeneratorと同様にこのままでは学習が進まないので以下のようにする．\n",
    "$$\n",
    "- \\sum_{i=1}^M\\log (1- D(x_i, E(x_i)))\n",
    "$$\n"
   ]
  },
  {
   "cell_type": "raw",
   "metadata": {},
   "source": [
    "# 誤差関数の実装のイメージ\n",
    "# BCEwithLogitsLossは入力にシグモイドを自動でかけてくれる\n",
    "criterion = nn.BCEWithLogitsLoss(reduction=\"mean\")\n",
    "\n",
    "# データローダーからmini-batchごとに取り出す\n",
    "for imges in dataloader:\n",
    "    label_real = torch.full((mini_batch_size,),1)\n",
    "    label_fake = torch.full((mini_batch_size,),0)\n",
    "    \n",
    "    \"\"\"D\"\"\"\n",
    "    # 前半部分\n",
    "    z_out_real = E(imges)\n",
    "    d_out_real, _ = D(imges, z_out_real)\n",
    "    \n",
    "    #　後半部分\n",
    "    input_z = torch.randn(mini_batch_size, z_dim).to(device)\n",
    "    fake_images = G(input_z)\n",
    "    d_out_fake, _ = D(fake_images, input_z)\n",
    "    \n",
    "    # 誤差の計算\n",
    "    d_loss_real = criterion(d_out_real.view(-1), label_real)\n",
    "    d_loss_fake = criterion(d_out_fake.view(-1), label_fake)\n",
    "    d_loss = d_loss_real + d_loss_fake\n",
    "    \n",
    "    #  backward\n",
    "    d_optimizer.zero_grad()\n",
    "    d_loss.backward()\n",
    "    d_optimizer.step()\n",
    "    \n",
    "    \n",
    "    \"\"\"G\"\"\"\n",
    "    # 偽画像を生成して判定\n",
    "    input_z = torch.randn(mini_batch_size, z_dim).to(device)\n",
    "    fake_images = G(input_z)\n",
    "    d_out_fake, _ = D(fake_images, input_z)\n",
    "    \n",
    "    # 誤差の計算\n",
    "    g_loss = criterion(d_out_fake.view(-1), label_real)\n",
    "    \n",
    "    # backward\n",
    "    g_optimizer.zero_grad()\n",
    "    g_loss.backward()\n",
    "    g_optimizer.step()\n",
    "    \n",
    "    \n",
    "    \"\"\"E\"\"\"\n",
    "    z_out_real = E(imges)\n",
    "    d_out_real, _ = D(imges, z_out_real)\n",
    "    \n",
    "    # 誤差の計算\n",
    "    e_loss = criterion(d_out_real.view(-1), label_fake)\n",
    "    \n",
    "    # backward\n",
    "    e_optimizer.zero_grad()\n",
    "    e_loss.backward()\n",
    "    e_optimizer.step()"
   ]
  },
  {
   "cell_type": "markdown",
   "metadata": {},
   "source": [
    "## 6-4 Efficient GANの実装と異常検知の実施\n",
    "mnistの7と8の画像を正常画像としてGANを学習する．この時画像サイズが64ピクセル平方ではなく28ピクセル平方であることに注意が必要．Encoderも同時に学習させることも含めて前に作ったGANの学習ずみモデルをここに適用することができないのでサイド学習させる必要がある．"
   ]
  },
  {
   "cell_type": "markdown",
   "metadata": {},
   "source": [
    "### GeneratorとDiscriminatorの実装"
   ]
  },
  {
   "cell_type": "code",
   "execution_count": 21,
   "metadata": {},
   "outputs": [],
   "source": [
    "class Generator(nn.Module):\n",
    "    \n",
    "    def __init__(self, z_dim=20):\n",
    "        super(Generator, self).__init__()\n",
    "        \n",
    "        self.layer1 = nn.Sequential(\n",
    "            nn.Linear(z_dim, 1024),\n",
    "            nn.BatchNorm1d(1024),\n",
    "            nn.ReLU(inplace=True))\n",
    "        \n",
    "        self.layer2 = nn.Sequential(\n",
    "            nn.Linear(1024, 7*7*128),\n",
    "            nn.BatchNorm1d(7*7*128),\n",
    "            nn.ReLU(inplace=True))\n",
    "        \n",
    "        self.layer3 = nn.Sequential(\n",
    "            nn.ConvTranspose2d(in_channels=128, out_channels=64, kernel_size=4, stride=2, padding=1),\n",
    "            nn.BatchNorm2d(64),\n",
    "            nn.ReLU(inplace=True))\n",
    "        \n",
    "        self.last = nn.Sequential(\n",
    "            nn.ConvTranspose2d(in_channels=64, out_channels=1, kernel_size=4, stride=2, padding=1),\n",
    "            nn.Tanh())\n",
    "        \n",
    "        \n",
    "    def forward(self, z):\n",
    "        out = self.layer1(z)\n",
    "        out = self.layer2(out)\n",
    "        \n",
    "        # 転置畳み込み層にいれるテンソルに形を変形する\n",
    "        out = out.view(z.shape[0], 128, 7, 7)\n",
    "        out = self.layer3(out)\n",
    "        out = self.last(out)\n",
    "        \n",
    "        return out"
   ]
  },
  {
   "cell_type": "code",
   "execution_count": 24,
   "metadata": {},
   "outputs": [
    {
     "data": {
      "image/png": "[encoded data removed]",
      "text/plain": [
       "<Figure size 432x288 with 1 Axes>"
      ]
     },
     "metadata": {
      "needs_background": "light"
     },
     "output_type": "display_data"
    }
   ],
   "source": [
    "# 動作確認\n",
    "G = Generator(z_dim=20)\n",
    "G.train()\n",
    "\n",
    "# Batch_Normがあるのでミニバッチは２以上の数\n",
    "input_z = torch.randn(2,20)\n",
    "\n",
    "fake_images = G(input_z)\n",
    "img_transformed = fake_images[0][0].detach().numpy()\n",
    "plt.imshow(img_transformed,\"gray\")\n",
    "plt.show()"
   ]
  },
  {
   "cell_type": "markdown",
   "metadata": {},
   "source": [
    "BiGANのモデルでは識別器Dに対して画像データxだけではなく入力ノイズzも入力します．これら２つは畳み込み層と全結合層で別々に処理された後に結合される．結合には```torch.cat()```を利用し，その後再度全結合層にて処理をする．"
   ]
  },
  {
   "cell_type": "code",
   "execution_count": 34,
   "metadata": {},
   "outputs": [],
   "source": [
    "class Discriminator(nn.Module):\n",
    "    \n",
    "    def __init__(self, z_dim=20):\n",
    "        super(Discriminator, self).__init__()\n",
    "        \n",
    "        # 入力画像の処理\n",
    "        self.x_layer1 = nn.Sequential(\n",
    "            nn.Conv2d(1, 64, kernel_size=4, stride=2, padding=1), # 白黒なのでinput_channel = 1\n",
    "            nn.LeakyReLU(0.1, inplace=True))\n",
    "        \n",
    "        self.x_layer2 =  nn.Sequential(\n",
    "            nn.Conv2d(64, 64, kernel_size=4, stride=2, padding=1), # 白黒なのでinput_channel = 1\n",
    "            nn.BatchNorm2d(64),\n",
    "            nn.LeakyReLU(0.1, inplace=True))\n",
    "        \n",
    "        # 乱数の入力処理\n",
    "        self.z_layer1 = nn.Linear(z_dim, 512)\n",
    "        \n",
    "        # 最後の判定\n",
    "        self.last1 = nn.Sequential(\n",
    "            nn.Linear(3648, 1024),  # (3648 - 512)**0.5 = 56\n",
    "            nn.LeakyReLU(0.1, inplace=True))\n",
    "\n",
    "        self.last2 = nn.Linear(1024, 1)\n",
    "        \n",
    "        \n",
    "    def forward(self, x, z):\n",
    "        \n",
    "        # 画像\n",
    "        x_out = self.x_layer1(x)\n",
    "        x_out = self.x_layer2(x_out)\n",
    "        \n",
    "        # 乱数\n",
    "        z = z.view(z.shape[0],-1)\n",
    "        z_out = self.z_layer1(z)\n",
    "        \n",
    "        # x_out と z_out の結合 \n",
    "        # その後全結合層\n",
    "        x_out = x_out.view(-1, 64*7*7)\n",
    "        out = torch.cat([x_out, z_out], dim=1)\n",
    "        out = self.last1(out)\n",
    "        \n",
    "        feature = out\n",
    "        feature = feature.view(feature.size()[0], -1)\n",
    "        \n",
    "        out = self.last2(out)\n",
    "        \n",
    "        return out , feature"
   ]
  },
  {
   "cell_type": "code",
   "execution_count": 35,
   "metadata": {},
   "outputs": [
    {
     "name": "stdout",
     "output_type": "stream",
     "text": [
      "tensor([[0.4644],\n",
      "        [0.5130]], grad_fn=<SigmoidBackward>)\n"
     ]
    }
   ],
   "source": [
    "# 動作確認\n",
    "D = Discriminator(z_dim=20)\n",
    "\n",
    "input_z = torch.randn(2,20)\n",
    "fake_images = G(input_z)\n",
    "\n",
    "d_out, _ = D(fake_images, input_z)\n",
    "\n",
    "print(nn.Sigmoid()(d_out))"
   ]
  },
  {
   "cell_type": "markdown",
   "metadata": {},
   "source": [
    "### Encoderの実装\n",
    "出力サイズが一次元ではなく```z_dim```になることに注意"
   ]
  },
  {
   "cell_type": "code",
   "execution_count": 41,
   "metadata": {},
   "outputs": [],
   "source": [
    "class Encoder(nn.Module):\n",
    "    \n",
    "    def __init__(self, z_dim=20):\n",
    "        super(Encoder, self).__init__()\n",
    "        \n",
    "        self.layer1 = nn.Sequential(\n",
    "            nn.Conv2d(1, 32, kernel_size=3, stride=1), # 白黒なので　input_channel = 1\n",
    "            nn.LeakyReLU(0.1, inplace=True))\n",
    "        \n",
    "        self.layer2 = nn.Sequential(\n",
    "            nn.Conv2d(32, 64, kernel_size=3, stride=2, padding=1),\n",
    "            nn.BatchNorm2d(64),\n",
    "            nn.LeakyReLU(0.1, inplace=True))\n",
    "        \n",
    "        self.layer3 = nn.Sequential(\n",
    "            nn.Conv2d(64, 128, kernel_size=3, stride=2, padding=1),\n",
    "            nn.BatchNorm2d(128),\n",
    "            nn.LeakyReLU(0.1, inplace=True))\n",
    "        \n",
    "        # ここまでで画像サイズが7×7\n",
    "        self.last = nn.Linear(128*7*7, z_dim)\n",
    "        \n",
    "        \n",
    "    def forward(self, x):\n",
    "        out = self.layer1(x)\n",
    "        out = self.layer2(out)\n",
    "        out = self.layer3(out)\n",
    "        \n",
    "        # LInearに入力するために整形する\n",
    "        out = out.view(-1, 128*7*7)\n",
    "        out = self.last(out)\n",
    "        \n",
    "        return out"
   ]
  },
  {
   "cell_type": "code",
   "execution_count": 44,
   "metadata": {},
   "outputs": [
    {
     "name": "stdout",
     "output_type": "stream",
     "text": [
      "torch.Size([2, 20])\n",
      "tensor([[ 0.1963, -0.3740, -0.5804,  0.6870, -0.0237, -0.9918, -0.3687, -0.4212,\n",
      "         -0.2987, -0.2438, -0.0394, -0.1112, -0.1076,  0.5265, -0.0333, -0.2125,\n",
      "          0.4872, -0.4294, -0.5205,  0.0964],\n",
      "        [-0.1606,  0.2021, -0.1141,  0.1908,  0.4037,  0.2272, -0.4661,  0.0418,\n",
      "          0.1836, -0.5176, -0.5233, -0.1162,  0.5253,  0.2757, -0.3043, -0.7173,\n",
      "          0.5581,  0.3669, -0.4870,  0.2635]], grad_fn=<AddmmBackward>)\n"
     ]
    }
   ],
   "source": [
    "# 動作確認\n",
    "E = Encoder(z_dim=20)\n",
    "\n",
    "x = fake_images # とりあえず代用\n",
    "\n",
    "z = E(x)\n",
    "\n",
    "print(z.shape)\n",
    "print(z)\n"
   ]
  },
  {
   "cell_type": "markdown",
   "metadata": {},
   "source": [
    "### DataLoaderの実装\n",
    "DCGANのDataLoaderと同じだが画像サイズが異なるのでパスだけ変える"
   ]
  },
  {
   "cell_type": "code",
   "execution_count": 50,
   "metadata": {},
   "outputs": [],
   "source": [
    "def make_datapath_list():\n",
    "    \n",
    "    train_img_list = list()\n",
    "    \n",
    "    for img_idx in range(200):\n",
    "        img_path = \"./data/img_78_28size/img_7_\" + str(img_idx) + \".jpg\"\n",
    "        train_img_list.append(img_path)\n",
    "        \n",
    "        img_path = \"./data/img_78_28size/img_8_\" + str(img_idx) + \".jpg\"\n",
    "        train_img_list.append(img_path)\n",
    "        \n",
    "    return train_img_list\n",
    "\n",
    "\n",
    "class ImageTransform():\n",
    "    \"\"\"\n",
    "    画像クラスの前処理\n",
    "    \"\"\"\n",
    "    def __init__(self, mean, std):\n",
    "        self.data_transform = transforms.Compose([\n",
    "            transforms.ToTensor(),\n",
    "            transforms.Normalize(mean, std)\n",
    "        ])\n",
    "    \n",
    "    def __call__(self, img):\n",
    "        return self.data_transform(img)\n",
    "    \n",
    "\n",
    "class GAN_Img_Dataset(data.Dataset):\n",
    "    \"\"\"\n",
    "    画像のDataset\n",
    "    \"\"\"\n",
    "    def __init__(self, file_list, transform):\n",
    "        self.file_list = file_list\n",
    "        self.transform = transform\n",
    "            \n",
    "    def __len__(self):\n",
    "        \"\"\"画像の枚数を返す\"\"\"\n",
    "        return len(self.file_list)\n",
    "    \n",
    "    def __getitem__(self,index):\n",
    "        \"\"\"前処理をした画像のTensor形式のデータを取得\"\"\"\n",
    "        \n",
    "        img_path = self.file_list[index]\n",
    "        img = Image.open(img_path) #H,W,C\n",
    "        \n",
    "        # 前処理\n",
    "        img_transformed = self.transform(img)\n",
    "        \n",
    "        return img_transformed"
   ]
  },
  {
   "cell_type": "code",
   "execution_count": 51,
   "metadata": {},
   "outputs": [],
   "source": [
    "# DataLoaderの作成\n",
    "train_img_list = make_datapath_list()\n",
    "# print(train_img_list)\n",
    "\n",
    "# Datasetの作成\n",
    "mean = (0.5,)\n",
    "std = (0.5,)\n",
    "train_dataset = GAN_Img_Dataset(train_img_list, ImageTransform(mean, std))\n",
    "\n",
    "# DataLoaderの作成\n",
    "batch_size = 64\n",
    "\n",
    "train_dataloader = torch.utils.data.DataLoader(train_dataset,\n",
    "                                              batch_size = batch_size, shuffle=True)"
   ]
  },
  {
   "cell_type": "code",
   "execution_count": 52,
   "metadata": {},
   "outputs": [
    {
     "name": "stdout",
     "output_type": "stream",
     "text": [
      "torch.Size([64, 1, 28, 28])\n"
     ]
    },
    {
     "data": {
      "image/png": "[encoded data removed]",
      "text/plain": [
       "<Figure size 432x288 with 1 Axes>"
      ]
     },
     "metadata": {
      "needs_background": "light"
     },
     "output_type": "display_data"
    }
   ],
   "source": [
    "#動作確認\n",
    "batch_iterator = iter(train_dataloader)\n",
    "imges = next(batch_iterator)\n",
    "print(imges.size())\n",
    "img_transformed = imges[0][0].detach().numpy()\n",
    "plt.imshow(img_transformed,'gray')\n",
    "plt.show()"
   ]
  },
  {
   "cell_type": "markdown",
   "metadata": {},
   "source": [
    "### Efficient GANの学習\n",
    "Encoderを追加する以外はDCGANと同じであるが，Discriminatorの学習率を低めに設定してある．これはDiscriminatorはGeneratorとEncoderの２つに対して学習をするので学習する機会が多いので学習率を下げることによって１つだけが学習が過度に進んで全体として学習が進まなくなるのを防ぐ"
   ]
  },
  {
   "cell_type": "code",
   "execution_count": 95,
   "metadata": {},
   "outputs": [],
   "source": [
    "def train_model(G, D, E, dataloader, num_epochs):\n",
    "    \n",
    "    device = torch.device(\"cuda:0\" if torch.cuda.is_available() else \"cpu\")\n",
    "    print(\"使用デバイス : \", device)\n",
    "    \n",
    "    # 最適化手法の適用\n",
    "    lr_ge = 0.0001\n",
    "    lr_d = lr_ge/4.0\n",
    "    beta1, beta2 = 0.5, 0.999\n",
    "    g_optimizer = torch.optim.Adam(G.parameters(), lr_ge, [beta1, beta2])\n",
    "    d_optimizer = torch.optim.Adam(D.parameters(), lr_d, [beta1, beta2])\n",
    "    e_optimizer = torch.optim.Adam(E.parameters(), lr_ge, [beta1, beta2])\n",
    "    \n",
    "    # 損失関数\n",
    "    criterion = nn.BCEWithLogitsLoss(reduction=\"mean\")\n",
    "    \n",
    "    z_dim = 20\n",
    "    mini_batch_size = 64\n",
    "    \n",
    "    G.to(device)\n",
    "    D.to(device)\n",
    "    E.to(device)\n",
    "    \n",
    "    G.train()\n",
    "    D.train()\n",
    "    E.train()\n",
    "    \n",
    "    torch.backends.cudnn.benchmark = True\n",
    "    \n",
    "    num_train_imgs = len(dataloader.dataset)\n",
    "    batch_size = dataloader.batch_size\n",
    "    \n",
    "    # イテレーションのカウンタをセット\n",
    "    iteration = 1\n",
    "    logs = []\n",
    "    \n",
    "    for epoch in range(num_epochs):\n",
    "        \n",
    "        t_epoch_start = time.time()\n",
    "        epoch_g_loss = 0.0\n",
    "        epoch_d_loss = 0.0\n",
    "        epoch_e_loss = 0.0\n",
    "        if ((epoch+1)%100==0):\n",
    "            print(\"-----------------------------------\")\n",
    "            print(\"Epoch {}/{} \".format(epoch, num_epochs))\n",
    "            print(\"-----------------------------------\")\n",
    "            print(\"---  (train)  ---\")\n",
    "\n",
    "        # dataloader からmini_batchずつデータを取り出す\n",
    "        for imges in dataloader:\n",
    "            \n",
    "            # batch_norm の　エラーを回避\n",
    "            if imges.size()[0] == 1:\n",
    "                continue\n",
    "                \n",
    "            \n",
    "            mini_batch_size = imges.size()[0]\n",
    "            label_real = torch.full((mini_batch_size,),1).to(device)\n",
    "            label_fake = torch.full((mini_batch_size,),0).to(device)\n",
    "            \n",
    "            imges = imges.to(device)\n",
    "            \n",
    "            \n",
    "            \"\"\"D\"\"\"\n",
    "            # 前半部分\n",
    "            z_out_real = E(imges)\n",
    "            d_out_real, _ = D(imges, z_out_real)\n",
    "\n",
    "            #　後半部分\n",
    "            input_z = torch.randn(mini_batch_size, z_dim).to(device)\n",
    "            fake_images = G(input_z)\n",
    "            d_out_fake, _ = D(fake_images, input_z)\n",
    "\n",
    "            # 誤差の計算\n",
    "            d_loss_real = criterion(d_out_real.view(-1), label_real)\n",
    "            d_loss_fake = criterion(d_out_fake.view(-1), label_fake)\n",
    "            d_loss = d_loss_real + d_loss_fake\n",
    "        \n",
    "            #  backward\n",
    "            d_optimizer.zero_grad()\n",
    "            d_loss.backward()\n",
    "            d_optimizer.step()\n",
    "            \n",
    "\n",
    "            \"\"\"G\"\"\"\n",
    "            # 偽画像を生成して判定\n",
    "            input_z = torch.randn(mini_batch_size, z_dim).to(device)\n",
    "            fake_images = G(input_z)\n",
    "            d_out_fake, _ = D(fake_images, input_z)\n",
    "\n",
    "            # 誤差の計算\n",
    "            g_loss = criterion(d_out_fake.view(-1), label_real)\n",
    "\n",
    "            # backward\n",
    "            g_optimizer.zero_grad()\n",
    "            g_loss.backward()\n",
    "            g_optimizer.step()\n",
    "             \n",
    "            \n",
    "            \"\"\"E\"\"\"\n",
    "            z_out_real = E(imges)\n",
    "            d_out_real, _ = D(imges, z_out_real)\n",
    "\n",
    "            # 誤差の計算\n",
    "            e_loss = criterion(d_out_real.view(-1), label_fake)\n",
    "\n",
    "            # backward\n",
    "            e_optimizer.zero_grad()\n",
    "            e_loss.backward()\n",
    "            e_optimizer.step()\n",
    "            \n",
    "            \n",
    "            \"\"\"記録\"\"\"\n",
    "            epoch_d_loss += d_loss.item()\n",
    "            epoch_e_loss += e_loss.item()\n",
    "            epoch_g_loss += g_loss.item()\n",
    "        \n",
    "        if ((epoch+1)%100==0):\n",
    "            t_epoch_finish = time.time()\n",
    "            print('-------------')\n",
    "            print('epoch {} || Epoch_D_Loss:{:.4f} ||Epoch_G_Loss:{:.4f} ||Epoch_E_Loss:{:.4f}'.format(\n",
    "                epoch, epoch_d_loss/batch_size, epoch_g_loss/batch_size, epoch_e_loss/batch_size))\n",
    "            print('timer:  {:.4f} sec.'.format(t_epoch_finish - t_epoch_start))\n",
    "            t_epoch_start = time.time()\n",
    "            \n",
    "            if ((epoch)%num_epochs==0):\n",
    "                torch.save(G.state_dict(), \"weights/bigan_g_\"+str(epoch+1) + \".pth\")\n",
    "                torch.save(D.state_dict(), \"weights/bigan_d_\"+str(epoch+1) + \".pth\")\n",
    "                torch.save(E.state_dict(), \"weights/bigan_e_\"+str(epoch+1) + \".pth\")\n",
    "            \n",
    "            \n",
    "    print(\"総イテレーション回数:\", iteration)\n",
    "    \n",
    "    return G, D, E"
   ]
  },
  {
   "cell_type": "code",
   "execution_count": 89,
   "metadata": {},
   "outputs": [],
   "source": [
    "# ネットワークの初期化\n",
    "def weights_init(m):\n",
    "    classname = m.__class__.__name__\n",
    "    if classname.find(\"Conv\") != -1:\n",
    "        nn.init.normal_(m.weight.data, 0.0, 0.02)\n",
    "        nn.init.constant_(m.bias.data, 0)\n",
    "        \n",
    "    elif classname.find(\"BatchNorm\") != -1:\n",
    "        nn.init.normal_(m.weight.data, 0.0, 0.02)\n",
    "        nn.init.constant_(m.bias.data, 0)\n",
    "    elif classname.find(\"Linear\") != -1:\n",
    "        m.bias.data.fill_(0)"
   ]
  },
  {
   "cell_type": "code",
   "execution_count": 93,
   "metadata": {},
   "outputs": [
    {
     "name": "stdout",
     "output_type": "stream",
     "text": [
      "ネットワークの初期化完了\n"
     ]
    }
   ],
   "source": [
    "init_flag = 0\n",
    "model_epoch_num = 300\n",
    "\n",
    "G = Generator(z_dim = 20)\n",
    "D = Discriminator(z_dim = 20)\n",
    "E = Encoder(z_dim = 20)\n",
    "\n",
    "if init_flag == 0:\n",
    "\n",
    "    # 初期化の実施\n",
    "    G.apply(weights_init)\n",
    "    E.apply(weights_init)\n",
    "    D.apply(weights_init)\n",
    "\n",
    "    print(\"ネットワークの初期化完了\")\n",
    "    \n",
    "else:\n",
    "\n",
    "#     学習済みモデルの適用\n",
    "#     G.to(device)\n",
    "#     D.to(device)\n",
    "#     E.to(device)\n",
    "\n",
    "    g_weights = torch.load(\"weights/bigan_g_\"+ str(model_epoch_num)+ \".pth\",\n",
    "                            map_location={'cuda:0': 'cpu'})\n",
    "    d_weights = torch.load(\"weights/bigan_d_\"+ str(model_epoch_num)+ \".pth\",\n",
    "                            map_location={'cuda:0': 'cpu'})\n",
    "    e_weights = torch.load(\"weights/bigan_d_\"+ str(model_epoch_num)+ \".pth\",\n",
    "                            map_location={'cuda:0': 'cpu'})\n",
    "\n",
    "\n",
    "    G.load_state_dict(g_weights)\n",
    "    D.load_state_dict(d_weights)\n",
    "    E.load_state_dict(e_weights)\n",
    "\n",
    "    print(\"ネットワークのモデル適用完了\")\n"
   ]
  },
  {
   "cell_type": "code",
   "execution_count": 94,
   "metadata": {},
   "outputs": [
    {
     "name": "stdout",
     "output_type": "stream",
     "text": [
      "使用デバイス :  cpu\n",
      "-----------------------------------\n",
      "Epoch 0/50 \n",
      "-----------------------------------\n",
      "---  (train)  ---\n",
      "-----------------------------------\n",
      "Epoch 1/50 \n",
      "-----------------------------------\n",
      "---  (train)  ---\n",
      "-----------------------------------\n",
      "Epoch 2/50 \n",
      "-----------------------------------\n",
      "---  (train)  ---\n",
      "-----------------------------------\n",
      "Epoch 3/50 \n",
      "-----------------------------------\n",
      "---  (train)  ---\n",
      "-----------------------------------\n",
      "Epoch 4/50 \n",
      "-----------------------------------\n",
      "---  (train)  ---\n"
     ]
    },
    {
     "ename": "KeyboardInterrupt",
     "evalue": "",
     "output_type": "error",
     "traceback": [
      "\u001b[0;31m---------------------------------------------------------------------------\u001b[0m",
      "\u001b[0;31mKeyboardInterrupt\u001b[0m                         Traceback (most recent call last)",
      "\u001b[0;32m<ipython-input-94-5af0d94931a9>\u001b[0m in \u001b[0;36m<module>\u001b[0;34m\u001b[0m\n\u001b[1;32m      1\u001b[0m \u001b[0mnum_epochs\u001b[0m  \u001b[0;34m=\u001b[0m \u001b[0;36m50\u001b[0m\u001b[0;34m\u001b[0m\u001b[0;34m\u001b[0m\u001b[0m\n\u001b[1;32m      2\u001b[0m G_update, D_update, E_update = train_model(\n\u001b[0;32m----> 3\u001b[0;31m     G, D, E, dataloader=train_dataloader, num_epochs=num_epochs)\n\u001b[0m",
      "\u001b[0;32m<ipython-input-92-f6aa7f41eae8>\u001b[0m in \u001b[0;36mtrain_model\u001b[0;34m(G, D, E, dataloader, num_epochs)\u001b[0m\n\u001b[1;32m     73\u001b[0m             \u001b[0;31m#　後半部分\u001b[0m\u001b[0;34m\u001b[0m\u001b[0;34m\u001b[0m\u001b[0;34m\u001b[0m\u001b[0m\n\u001b[1;32m     74\u001b[0m             \u001b[0minput_z\u001b[0m \u001b[0;34m=\u001b[0m \u001b[0mtorch\u001b[0m\u001b[0;34m.\u001b[0m\u001b[0mrandn\u001b[0m\u001b[0;34m(\u001b[0m\u001b[0mmini_batch_size\u001b[0m\u001b[0;34m,\u001b[0m \u001b[0mz_dim\u001b[0m\u001b[0;34m)\u001b[0m\u001b[0;34m.\u001b[0m\u001b[0mto\u001b[0m\u001b[0;34m(\u001b[0m\u001b[0mdevice\u001b[0m\u001b[0;34m)\u001b[0m\u001b[0;34m\u001b[0m\u001b[0;34m\u001b[0m\u001b[0m\n\u001b[0;32m---> 75\u001b[0;31m             \u001b[0mfake_images\u001b[0m \u001b[0;34m=\u001b[0m \u001b[0mG\u001b[0m\u001b[0;34m(\u001b[0m\u001b[0minput_z\u001b[0m\u001b[0;34m)\u001b[0m\u001b[0;34m\u001b[0m\u001b[0;34m\u001b[0m\u001b[0m\n\u001b[0m\u001b[1;32m     76\u001b[0m             \u001b[0md_out_fake\u001b[0m\u001b[0;34m,\u001b[0m \u001b[0m_\u001b[0m \u001b[0;34m=\u001b[0m \u001b[0mD\u001b[0m\u001b[0;34m(\u001b[0m\u001b[0mfake_images\u001b[0m\u001b[0;34m,\u001b[0m \u001b[0minput_z\u001b[0m\u001b[0;34m)\u001b[0m\u001b[0;34m\u001b[0m\u001b[0;34m\u001b[0m\u001b[0m\n\u001b[1;32m     77\u001b[0m \u001b[0;34m\u001b[0m\u001b[0m\n",
      "\u001b[0;32m~/anaconda3/lib/python3.6/site-packages/torch/nn/modules/module.py\u001b[0m in \u001b[0;36m__call__\u001b[0;34m(self, *input, **kwargs)\u001b[0m\n\u001b[1;32m    530\u001b[0m             \u001b[0mresult\u001b[0m \u001b[0;34m=\u001b[0m \u001b[0mself\u001b[0m\u001b[0;34m.\u001b[0m\u001b[0m_slow_forward\u001b[0m\u001b[0;34m(\u001b[0m\u001b[0;34m*\u001b[0m\u001b[0minput\u001b[0m\u001b[0;34m,\u001b[0m \u001b[0;34m**\u001b[0m\u001b[0mkwargs\u001b[0m\u001b[0;34m)\u001b[0m\u001b[0;34m\u001b[0m\u001b[0;34m\u001b[0m\u001b[0m\n\u001b[1;32m    531\u001b[0m         \u001b[0;32melse\u001b[0m\u001b[0;34m:\u001b[0m\u001b[0;34m\u001b[0m\u001b[0;34m\u001b[0m\u001b[0m\n\u001b[0;32m--> 532\u001b[0;31m             \u001b[0mresult\u001b[0m \u001b[0;34m=\u001b[0m \u001b[0mself\u001b[0m\u001b[0;34m.\u001b[0m\u001b[0mforward\u001b[0m\u001b[0;34m(\u001b[0m\u001b[0;34m*\u001b[0m\u001b[0minput\u001b[0m\u001b[0;34m,\u001b[0m \u001b[0;34m**\u001b[0m\u001b[0mkwargs\u001b[0m\u001b[0;34m)\u001b[0m\u001b[0;34m\u001b[0m\u001b[0;34m\u001b[0m\u001b[0m\n\u001b[0m\u001b[1;32m    533\u001b[0m         \u001b[0;32mfor\u001b[0m \u001b[0mhook\u001b[0m \u001b[0;32min\u001b[0m \u001b[0mself\u001b[0m\u001b[0;34m.\u001b[0m\u001b[0m_forward_hooks\u001b[0m\u001b[0;34m.\u001b[0m\u001b[0mvalues\u001b[0m\u001b[0;34m(\u001b[0m\u001b[0;34m)\u001b[0m\u001b[0;34m:\u001b[0m\u001b[0;34m\u001b[0m\u001b[0;34m\u001b[0m\u001b[0m\n\u001b[1;32m    534\u001b[0m             \u001b[0mhook_result\u001b[0m \u001b[0;34m=\u001b[0m \u001b[0mhook\u001b[0m\u001b[0;34m(\u001b[0m\u001b[0mself\u001b[0m\u001b[0;34m,\u001b[0m \u001b[0minput\u001b[0m\u001b[0;34m,\u001b[0m \u001b[0mresult\u001b[0m\u001b[0;34m)\u001b[0m\u001b[0;34m\u001b[0m\u001b[0;34m\u001b[0m\u001b[0m\n",
      "\u001b[0;32m<ipython-input-21-18827e08a9e9>\u001b[0m in \u001b[0;36mforward\u001b[0;34m(self, z)\u001b[0m\n\u001b[1;32m     30\u001b[0m         \u001b[0;31m# 転置畳み込み層にいれるテンソルに形を変形する\u001b[0m\u001b[0;34m\u001b[0m\u001b[0;34m\u001b[0m\u001b[0;34m\u001b[0m\u001b[0m\n\u001b[1;32m     31\u001b[0m         \u001b[0mout\u001b[0m \u001b[0;34m=\u001b[0m \u001b[0mout\u001b[0m\u001b[0;34m.\u001b[0m\u001b[0mview\u001b[0m\u001b[0;34m(\u001b[0m\u001b[0mz\u001b[0m\u001b[0;34m.\u001b[0m\u001b[0mshape\u001b[0m\u001b[0;34m[\u001b[0m\u001b[0;36m0\u001b[0m\u001b[0;34m]\u001b[0m\u001b[0;34m,\u001b[0m \u001b[0;36m128\u001b[0m\u001b[0;34m,\u001b[0m \u001b[0;36m7\u001b[0m\u001b[0;34m,\u001b[0m \u001b[0;36m7\u001b[0m\u001b[0;34m)\u001b[0m\u001b[0;34m\u001b[0m\u001b[0;34m\u001b[0m\u001b[0m\n\u001b[0;32m---> 32\u001b[0;31m         \u001b[0mout\u001b[0m \u001b[0;34m=\u001b[0m \u001b[0mself\u001b[0m\u001b[0;34m.\u001b[0m\u001b[0mlayer3\u001b[0m\u001b[0;34m(\u001b[0m\u001b[0mout\u001b[0m\u001b[0;34m)\u001b[0m\u001b[0;34m\u001b[0m\u001b[0;34m\u001b[0m\u001b[0m\n\u001b[0m\u001b[1;32m     33\u001b[0m         \u001b[0mout\u001b[0m \u001b[0;34m=\u001b[0m \u001b[0mself\u001b[0m\u001b[0;34m.\u001b[0m\u001b[0mlast\u001b[0m\u001b[0;34m(\u001b[0m\u001b[0mout\u001b[0m\u001b[0;34m)\u001b[0m\u001b[0;34m\u001b[0m\u001b[0;34m\u001b[0m\u001b[0m\n\u001b[1;32m     34\u001b[0m \u001b[0;34m\u001b[0m\u001b[0m\n",
      "\u001b[0;32m~/anaconda3/lib/python3.6/site-packages/torch/nn/modules/module.py\u001b[0m in \u001b[0;36m__call__\u001b[0;34m(self, *input, **kwargs)\u001b[0m\n\u001b[1;32m    530\u001b[0m             \u001b[0mresult\u001b[0m \u001b[0;34m=\u001b[0m \u001b[0mself\u001b[0m\u001b[0;34m.\u001b[0m\u001b[0m_slow_forward\u001b[0m\u001b[0;34m(\u001b[0m\u001b[0;34m*\u001b[0m\u001b[0minput\u001b[0m\u001b[0;34m,\u001b[0m \u001b[0;34m**\u001b[0m\u001b[0mkwargs\u001b[0m\u001b[0;34m)\u001b[0m\u001b[0;34m\u001b[0m\u001b[0;34m\u001b[0m\u001b[0m\n\u001b[1;32m    531\u001b[0m         \u001b[0;32melse\u001b[0m\u001b[0;34m:\u001b[0m\u001b[0;34m\u001b[0m\u001b[0;34m\u001b[0m\u001b[0m\n\u001b[0;32m--> 532\u001b[0;31m             \u001b[0mresult\u001b[0m \u001b[0;34m=\u001b[0m \u001b[0mself\u001b[0m\u001b[0;34m.\u001b[0m\u001b[0mforward\u001b[0m\u001b[0;34m(\u001b[0m\u001b[0;34m*\u001b[0m\u001b[0minput\u001b[0m\u001b[0;34m,\u001b[0m \u001b[0;34m**\u001b[0m\u001b[0mkwargs\u001b[0m\u001b[0;34m)\u001b[0m\u001b[0;34m\u001b[0m\u001b[0;34m\u001b[0m\u001b[0m\n\u001b[0m\u001b[1;32m    533\u001b[0m         \u001b[0;32mfor\u001b[0m \u001b[0mhook\u001b[0m \u001b[0;32min\u001b[0m \u001b[0mself\u001b[0m\u001b[0;34m.\u001b[0m\u001b[0m_forward_hooks\u001b[0m\u001b[0;34m.\u001b[0m\u001b[0mvalues\u001b[0m\u001b[0;34m(\u001b[0m\u001b[0;34m)\u001b[0m\u001b[0;34m:\u001b[0m\u001b[0;34m\u001b[0m\u001b[0;34m\u001b[0m\u001b[0m\n\u001b[1;32m    534\u001b[0m             \u001b[0mhook_result\u001b[0m \u001b[0;34m=\u001b[0m \u001b[0mhook\u001b[0m\u001b[0;34m(\u001b[0m\u001b[0mself\u001b[0m\u001b[0;34m,\u001b[0m \u001b[0minput\u001b[0m\u001b[0;34m,\u001b[0m \u001b[0mresult\u001b[0m\u001b[0;34m)\u001b[0m\u001b[0;34m\u001b[0m\u001b[0;34m\u001b[0m\u001b[0m\n",
      "\u001b[0;32m~/anaconda3/lib/python3.6/site-packages/torch/nn/modules/container.py\u001b[0m in \u001b[0;36mforward\u001b[0;34m(self, input)\u001b[0m\n\u001b[1;32m     98\u001b[0m     \u001b[0;32mdef\u001b[0m \u001b[0mforward\u001b[0m\u001b[0;34m(\u001b[0m\u001b[0mself\u001b[0m\u001b[0;34m,\u001b[0m \u001b[0minput\u001b[0m\u001b[0;34m)\u001b[0m\u001b[0;34m:\u001b[0m\u001b[0;34m\u001b[0m\u001b[0;34m\u001b[0m\u001b[0m\n\u001b[1;32m     99\u001b[0m         \u001b[0;32mfor\u001b[0m \u001b[0mmodule\u001b[0m \u001b[0;32min\u001b[0m \u001b[0mself\u001b[0m\u001b[0;34m:\u001b[0m\u001b[0;34m\u001b[0m\u001b[0;34m\u001b[0m\u001b[0m\n\u001b[0;32m--> 100\u001b[0;31m             \u001b[0minput\u001b[0m \u001b[0;34m=\u001b[0m \u001b[0mmodule\u001b[0m\u001b[0;34m(\u001b[0m\u001b[0minput\u001b[0m\u001b[0;34m)\u001b[0m\u001b[0;34m\u001b[0m\u001b[0;34m\u001b[0m\u001b[0m\n\u001b[0m\u001b[1;32m    101\u001b[0m         \u001b[0;32mreturn\u001b[0m \u001b[0minput\u001b[0m\u001b[0;34m\u001b[0m\u001b[0;34m\u001b[0m\u001b[0m\n\u001b[1;32m    102\u001b[0m \u001b[0;34m\u001b[0m\u001b[0m\n",
      "\u001b[0;32m~/anaconda3/lib/python3.6/site-packages/torch/nn/modules/module.py\u001b[0m in \u001b[0;36m__call__\u001b[0;34m(self, *input, **kwargs)\u001b[0m\n\u001b[1;32m    530\u001b[0m             \u001b[0mresult\u001b[0m \u001b[0;34m=\u001b[0m \u001b[0mself\u001b[0m\u001b[0;34m.\u001b[0m\u001b[0m_slow_forward\u001b[0m\u001b[0;34m(\u001b[0m\u001b[0;34m*\u001b[0m\u001b[0minput\u001b[0m\u001b[0;34m,\u001b[0m \u001b[0;34m**\u001b[0m\u001b[0mkwargs\u001b[0m\u001b[0;34m)\u001b[0m\u001b[0;34m\u001b[0m\u001b[0;34m\u001b[0m\u001b[0m\n\u001b[1;32m    531\u001b[0m         \u001b[0;32melse\u001b[0m\u001b[0;34m:\u001b[0m\u001b[0;34m\u001b[0m\u001b[0;34m\u001b[0m\u001b[0m\n\u001b[0;32m--> 532\u001b[0;31m             \u001b[0mresult\u001b[0m \u001b[0;34m=\u001b[0m \u001b[0mself\u001b[0m\u001b[0;34m.\u001b[0m\u001b[0mforward\u001b[0m\u001b[0;34m(\u001b[0m\u001b[0;34m*\u001b[0m\u001b[0minput\u001b[0m\u001b[0;34m,\u001b[0m \u001b[0;34m**\u001b[0m\u001b[0mkwargs\u001b[0m\u001b[0;34m)\u001b[0m\u001b[0;34m\u001b[0m\u001b[0;34m\u001b[0m\u001b[0m\n\u001b[0m\u001b[1;32m    533\u001b[0m         \u001b[0;32mfor\u001b[0m \u001b[0mhook\u001b[0m \u001b[0;32min\u001b[0m \u001b[0mself\u001b[0m\u001b[0;34m.\u001b[0m\u001b[0m_forward_hooks\u001b[0m\u001b[0;34m.\u001b[0m\u001b[0mvalues\u001b[0m\u001b[0;34m(\u001b[0m\u001b[0;34m)\u001b[0m\u001b[0;34m:\u001b[0m\u001b[0;34m\u001b[0m\u001b[0;34m\u001b[0m\u001b[0m\n\u001b[1;32m    534\u001b[0m             \u001b[0mhook_result\u001b[0m \u001b[0;34m=\u001b[0m \u001b[0mhook\u001b[0m\u001b[0;34m(\u001b[0m\u001b[0mself\u001b[0m\u001b[0;34m,\u001b[0m \u001b[0minput\u001b[0m\u001b[0;34m,\u001b[0m \u001b[0mresult\u001b[0m\u001b[0;34m)\u001b[0m\u001b[0;34m\u001b[0m\u001b[0;34m\u001b[0m\u001b[0m\n",
      "\u001b[0;32m~/anaconda3/lib/python3.6/site-packages/torch/nn/modules/conv.py\u001b[0m in \u001b[0;36mforward\u001b[0;34m(self, input, output_size)\u001b[0m\n\u001b[1;32m    776\u001b[0m         return F.conv_transpose2d(\n\u001b[1;32m    777\u001b[0m             \u001b[0minput\u001b[0m\u001b[0;34m,\u001b[0m \u001b[0mself\u001b[0m\u001b[0;34m.\u001b[0m\u001b[0mweight\u001b[0m\u001b[0;34m,\u001b[0m \u001b[0mself\u001b[0m\u001b[0;34m.\u001b[0m\u001b[0mbias\u001b[0m\u001b[0;34m,\u001b[0m \u001b[0mself\u001b[0m\u001b[0;34m.\u001b[0m\u001b[0mstride\u001b[0m\u001b[0;34m,\u001b[0m \u001b[0mself\u001b[0m\u001b[0;34m.\u001b[0m\u001b[0mpadding\u001b[0m\u001b[0;34m,\u001b[0m\u001b[0;34m\u001b[0m\u001b[0;34m\u001b[0m\u001b[0m\n\u001b[0;32m--> 778\u001b[0;31m             output_padding, self.groups, self.dilation)\n\u001b[0m\u001b[1;32m    779\u001b[0m \u001b[0;34m\u001b[0m\u001b[0m\n\u001b[1;32m    780\u001b[0m \u001b[0;34m\u001b[0m\u001b[0m\n",
      "\u001b[0;31mKeyboardInterrupt\u001b[0m: "
     ]
    }
   ],
   "source": [
    "num_epochs  = 50\n",
    "G_update, D_update, E_update = train_model(\n",
    "    G, D, E, dataloader=train_dataloader, num_epochs=num_epochs)"
   ]
  },
  {
   "cell_type": "code",
   "execution_count": null,
   "metadata": {},
   "outputs": [],
   "source": []
  }
 ],
 "metadata": {
  "kernelspec": {
   "display_name": "Python 3",
   "language": "python",
   "name": "python3"
  },
  "language_info": {
   "codemirror_mode": {
    "name": "ipython",
    "version": 3
   },
   "file_extension": ".py",
   "mimetype": "text/x-python",
   "name": "python",
   "nbconvert_exporter": "python",
   "pygments_lexer": "ipython3",
   "version": "3.6.9"
  },
  "toc": {
   "base_numbering": 1,
   "nav_menu": {},
   "number_sections": true,
   "sideBar": true,
   "skip_h1_title": false,
   "title_cell": "Table of Contents",
   "title_sidebar": "Contents",
   "toc_cell": false,
   "toc_position": {
    "height": "calc(100% - 180px)",
    "left": "10px",
    "top": "150px",
    "width": "288px"
   },
   "toc_section_display": true,
   "toc_window_display": true
  }
 },
 "nbformat": 4,
 "nbformat_minor": 2
}
