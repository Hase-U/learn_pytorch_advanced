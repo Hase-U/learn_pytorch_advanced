{
 "cells": [
  {
   "cell_type": "markdown",
   "metadata": {},
   "source": [
    "# GANによる異常検知"
   ]
  },
  {
   "cell_type": "code",
   "execution_count": 2,
   "metadata": {},
   "outputs": [
    {
     "name": "stdout",
     "output_type": "stream",
     "text": [
      "/bin/sh: gpustat: command not found\r\n"
     ]
    }
   ],
   "source": [
    "!gpustat"
   ]
  },
  {
   "cell_type": "code",
   "execution_count": 4,
   "metadata": {},
   "outputs": [],
   "source": [
    "import os\n",
    "os.environ[\"CUDA_VISIBLE_DEVICES\"]=\"2\""
   ]
  },
  {
   "cell_type": "code",
   "execution_count": 5,
   "metadata": {},
   "outputs": [],
   "source": [
    "# パッケージのimport\n",
    "import random\n",
    "import math\n",
    "import time\n",
    "import pandas as pd\n",
    "import numpy as np\n",
    "from PIL import Image\n",
    "\n",
    "import torch\n",
    "import torch.utils.data as data\n",
    "import torch.nn as nn\n",
    "import torch.nn.functional as F\n",
    "import torch.optim as optim\n",
    "\n",
    "from torchvision import transforms\n",
    "%config IPCompleter.greedy=True\n",
    "\n",
    "import matplotlib.pyplot as plt\n",
    "%matplotlib inline"
   ]
  },
  {
   "cell_type": "code",
   "execution_count": 7,
   "metadata": {},
   "outputs": [],
   "source": [
    "device = \"cpu\"\n",
    "# device = torch.device(\"cuda:0\" if torch.cuda.is_available() else \"cpu\")"
   ]
  },
  {
   "cell_type": "code",
   "execution_count": 8,
   "metadata": {},
   "outputs": [],
   "source": [
    "# Setup seeds\n",
    "torch.manual_seed(1234)\n",
    "np.random.seed(1234)\n",
    "random.seed(1234)"
   ]
  },
  {
   "cell_type": "markdown",
   "metadata": {},
   "source": [
    "## 6-3 Efficient GANの概要\n",
    "AnoGANではテスト画像に対して異常検知をするのにまずテスト画像と最も近い画像を作ることのできる生成ノイズを学習する必要があり，異常検知に時間がかかってしまう問題があった．本節ではその問題を解決するためにEfficient GANを理解する"
   ]
  },
  {
   "cell_type": "markdown",
   "metadata": {},
   "source": [
    "### Efficient GAN\n",
    "Efficient GANではテスト画像から生成ノイズzを生成するエンコーダEを新たに作る．つまりこれは生成器Gとは逆の作用をしていて${\\rm G}^{-1}$と表すことができる．このEについては通常通りGANを生成した後に独立に作ろうとすると上手くいかないらしい．なのでここではG,D,Eを同時に作る手順を理解する．"
   ]
  },
  {
   "cell_type": "markdown",
   "metadata": {},
   "source": [
    "### Encoderを作る方法，後から作る作戦が上手くいかない理由\n",
    "- [Adversarially learned inference](https://arxiv.org/pdf/1606.00704.pdf)\n",
    "- [Adversarially learned inference GitHub page](https://ishmaelbelghazi.github.io/ALI/)\n",
    "\n",
    "\n",
    "詳しくは上のサイトの図を参照するのがわかりやすい．それぞれの方法で作成したEncoderについて二次元データ(本来は画像を用いるところ)を入力して，生成ノイズzの空間に写像させた時に本来GANの入力ノイズは平均0,　分散1の均一な空間になると基づいて設計されているが適切な学習をさせていないEncoderの写像はそのような空間になっていない．つまりこれは平均0, 分散1の生成ノイズに対して上手く画像を生成できないことを意味している．\n",
    "\n",
    "この直感的な理由の理解としては，Generatorが入力データの平均や分散を完全に理解していれば問題ないがそれは現実的には困難であり，不完全に学習したGeneratorを基にして学習するよりは本来学習の基にすべきである教師データを基にEncoderも学習するべきであるというように考えることができる．\n"
   ]
  },
  {
   "cell_type": "markdown",
   "metadata": {},
   "source": [
    "### EncoderをGANと同時に作る方法\n",
    "今回はEncoderを教師データの画像xと関与させるために**BiGAN(Bidiretional GAN)** と呼ばれる仕組みを利用する．\n",
    "BiGANではDiscriminatorに対して$(x, E(x))$と$(G(z), z)$を入力する．\n",
    "\n",
    "つまり元々のDCGANの損失関数とBiGANの損失関数を比較すると\n",
    "- Discriminator\n",
    "$$\n",
    "-\\sum_{i=1}^M\\log D(x) -\\sum_{j=1}^M \\log(1-D(G(z))\n",
    "$$\n",
    "$$\n",
    "-\\sum_{i=1}^M[\\log  D(x_i, E(x_i)-\\sum_{j=1}^M  \\log(1-D(G(z_j), z_j))]\n",
    "$$\n",
    "\n",
    "- Generator\n",
    "$$\n",
    "-\\sum_{j=1}^M\\log D(G(z_j))\n",
    "$$\n",
    "$$\n",
    "-\\sum_{j=1}^M\\log D(G(z_j), z_j)\n",
    "$$\n",
    "\n",
    "ここでEncoderの損失関数を考えると，EncoderはDiscriminatorを騙せると嬉しいので，Discriminatorの損失関数にマイナスをかけてEncoderに関与するところだけを取り出すと\n",
    "- Encoder\n",
    "\n",
    "$\\sum_{i=1}^M\\log D(x_i, E(x_i))$\n",
    "となる．しかしGeneratorと同様にこのままでは学習が進まないので以下のようにする．\n",
    "$$\n",
    "- \\sum_{i=1}^M\\log (1- D(x_i, E(x_i)))\n",
    "$$\n"
   ]
  },
  {
   "cell_type": "code",
   "execution_count": null,
   "metadata": {},
   "outputs": [],
   "source": []
  },
  {
   "cell_type": "code",
   "execution_count": null,
   "metadata": {},
   "outputs": [],
   "source": []
  }
 ],
 "metadata": {
  "kernelspec": {
   "display_name": "Python 3",
   "language": "python",
   "name": "python3"
  },
  "language_info": {
   "codemirror_mode": {
    "name": "ipython",
    "version": 3
   },
   "file_extension": ".py",
   "mimetype": "text/x-python",
   "name": "python",
   "nbconvert_exporter": "python",
   "pygments_lexer": "ipython3",
   "version": "3.6.9"
  },
  "toc": {
   "base_numbering": 1,
   "nav_menu": {},
   "number_sections": true,
   "sideBar": true,
   "skip_h1_title": false,
   "title_cell": "Table of Contents",
   "title_sidebar": "Contents",
   "toc_cell": false,
   "toc_position": {},
   "toc_section_display": true,
   "toc_window_display": false
  }
 },
 "nbformat": 4,
 "nbformat_minor": 2
}
