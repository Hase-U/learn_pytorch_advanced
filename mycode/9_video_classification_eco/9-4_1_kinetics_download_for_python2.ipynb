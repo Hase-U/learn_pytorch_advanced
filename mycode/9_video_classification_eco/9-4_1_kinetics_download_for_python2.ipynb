{
 "cells": [
  {
   "cell_type": "markdown",
   "metadata": {},
   "source": [
    "# 9.4.1 Kinetics動画のダウンロード\n",
    "\n",
    "本ファイルでは、Kinetics動画をダウンロードします。\n"
   ]
  },
  {
   "cell_type": "markdown",
   "metadata": {},
   "source": [
    "## 解説"
   ]
  },
  {
   "cell_type": "markdown",
   "metadata": {},
   "source": [
    "https://github.com/activitynet/ActivityNet/tree/master/Crawler/Kinetics\n",
    "\n",
    "のKineticsの動画ダウンロード環境を利用します。\n",
    "\n",
    "Python2系なので、新しい仮想環境を作成します。\n",
    "今いるディレクトリはUbuntuのhomeです。\n",
    "\n",
    "以下のコマンドをターミナルで実行し、フォルダ「video_download」のファイル「environment.yml」に記載したパッケージをインストールした仮想環境を作成します\n",
    "\n",
    "- source deactivate\n",
    "\n",
    "- conda env create -f ./9_video_classification_eco/video_download/environment.yml\n",
    "\n",
    "作成した仮想環境に入ります\n",
    "\n",
    "- source activate kinetics\n",
    "\n",
    "youtube-dlのパッケージを更新インストールします\n",
    "\n",
    "- pip install --upgrade youtube-dl\n",
    "\n",
    "- pip install --upgrade joblib\n",
    "\n",
    "これで準備ができたので、JupyteNotebookを立ち上げ、本ファイルを実行します\n",
    "\n",
    "- jupyter notebook --port 9999\n"
   ]
  },
  {
   "cell_type": "code",
   "execution_count": 3,
   "metadata": {},
   "outputs": [
    {
     "name": "stdout",
     "output_type": "stream",
     "text": [
      "/Users/hasegawayuya/anaconda3/envs/kinetics/lib/python2.7/site-packages/joblib/externals/loky/backend/semlock.py:217: RuntimeWarning: semaphore are broken on OSX, release might increase its maximal value\n",
      "  \"increase its maximal value\", RuntimeWarning)\n",
      "/tmp/kinetics/0003bc69-21e0-497d-a35d-c33b6b7d0863.%(ext)s\n",
      "/Users/hasegawayuya/anaconda3/envs/kinetics/lib/python2.7/site-packages/joblib/externals/loky/backend/semlock.py:217: RuntimeWarning: semaphore are broken on OSX, release might increase its maximal value\n",
      "  \"increase its maximal value\", RuntimeWarning)\n",
      "/tmp/kinetics/e805bd39-b1af-4228-96e5-95d41498a6da.%(ext)s\n",
      "/Users/hasegawayuya/anaconda3/envs/kinetics/lib/python2.7/site-packages/joblib/externals/loky/backend/semlock.py:217: RuntimeWarning: semaphore are broken on OSX, release might increase its maximal value\n",
      "  \"increase its maximal value\", RuntimeWarning)\n",
      "/tmp/kinetics/9347c201-7c50-40f0-86dd-c21f9c6db64d.%(ext)s\n",
      "/Users/hasegawayuya/anaconda3/envs/kinetics/lib/python2.7/site-packages/joblib/externals/loky/backend/semlock.py:217: RuntimeWarning: semaphore are broken on OSX, release might increase its maximal value\n",
      "  \"increase its maximal value\", RuntimeWarning)\n",
      "/tmp/kinetics/bd45e46d-2789-4875-b7f2-403f79c55964.%(ext)s\n",
      "/Users/hasegawayuya/anaconda3/envs/kinetics/lib/python2.7/site-packages/joblib/externals/loky/backend/semlock.py:217: RuntimeWarning: semaphore are broken on OSX, release might increase its maximal value\n",
      "  \"increase its maximal value\", RuntimeWarning)\n",
      "/tmp/kinetics/7a060138-741d-4f5e-8bad-2ed5d16a81a9.%(ext)s\n",
      "/Users/hasegawayuya/anaconda3/envs/kinetics/lib/python2.7/site-packages/joblib/externals/loky/backend/semlock.py:217: RuntimeWarning: semaphore are broken on OSX, release might increase its maximal value\n",
      "  \"increase its maximal value\", RuntimeWarning)\n",
      "/tmp/kinetics/9ea402af-6e0a-4f3a-aa5e-75d9670bf3a3.%(ext)s\n",
      "/Users/hasegawayuya/anaconda3/envs/kinetics/lib/python2.7/site-packages/joblib/externals/loky/backend/semlock.py:217: RuntimeWarning: semaphore are broken on OSX, release might increase its maximal value\n",
      "  \"increase its maximal value\", RuntimeWarning)\n",
      "/tmp/kinetics/41c2002d-d839-4423-8a13-3aacca788b39.%(ext)s\n",
      "/Users/hasegawayuya/anaconda3/envs/kinetics/lib/python2.7/site-packages/joblib/externals/loky/backend/semlock.py:217: RuntimeWarning: semaphore are broken on OSX, release might increase its maximal value\n",
      "  \"increase its maximal value\", RuntimeWarning)\n",
      "/tmp/kinetics/ebf2c928-0b9c-4064-89e8-48fe8add6975.%(ext)s\n",
      "/Users/hasegawayuya/anaconda3/envs/kinetics/lib/python2.7/site-packages/joblib/externals/loky/backend/semlock.py:217: RuntimeWarning: semaphore are broken on OSX, release might increase its maximal value\n",
      "  \"increase its maximal value\", RuntimeWarning)\n",
      "/Users/hasegawayuya/anaconda3/envs/kinetics/lib/python2.7/site-packages/joblib/externals/loky/backend/semlock.py:217: RuntimeWarning: semaphore are broken on OSX, release might increase its maximal value\n",
      "  \"increase its maximal value\", RuntimeWarning)\n",
      "/Users/hasegawayuya/anaconda3/envs/kinetics/lib/python2.7/site-packages/joblib/externals/loky/backend/semlock.py:217: RuntimeWarning: semaphore are broken on OSX, release might increase its maximal value\n",
      "  \"increase its maximal value\", RuntimeWarning)\n",
      "/Users/hasegawayuya/anaconda3/envs/kinetics/lib/python2.7/site-packages/joblib/externals/loky/backend/semlock.py:217: RuntimeWarning: semaphore are broken on OSX, release might increase its maximal value\n",
      "  \"increase its maximal value\", RuntimeWarning)\n",
      "/Users/hasegawayuya/anaconda3/envs/kinetics/lib/python2.7/site-packages/joblib/externals/loky/backend/semlock.py:217: RuntimeWarning: semaphore are broken on OSX, release might increase its maximal value\n",
      "  \"increase its maximal value\", RuntimeWarning)\n",
      "/Users/hasegawayuya/anaconda3/envs/kinetics/lib/python2.7/site-packages/joblib/externals/loky/backend/semlock.py:217: RuntimeWarning: semaphore are broken on OSX, release might increase its maximal value\n",
      "  \"increase its maximal value\", RuntimeWarning)\n",
      "/Users/hasegawayuya/anaconda3/envs/kinetics/lib/python2.7/site-packages/joblib/externals/loky/backend/semlock.py:217: RuntimeWarning: semaphore are broken on OSX, release might increase its maximal value\n",
      "  \"increase its maximal value\", RuntimeWarning)\n",
      "/Users/hasegawayuya/anaconda3/envs/kinetics/lib/python2.7/site-packages/joblib/externals/loky/backend/semlock.py:217: RuntimeWarning: semaphore are broken on OSX, release might increase its maximal value\n",
      "  \"increase its maximal value\", RuntimeWarning)\n",
      "/Users/hasegawayuya/anaconda3/envs/kinetics/lib/python2.7/site-packages/joblib/externals/loky/backend/semlock.py:217: RuntimeWarning: semaphore are broken on OSX, release might increase its maximal value\n",
      "  \"increase its maximal value\", RuntimeWarning)\n",
      "/Users/hasegawayuya/anaconda3/envs/kinetics/lib/python2.7/site-packages/joblib/externals/loky/backend/semlock.py:217: RuntimeWarning: semaphore are broken on OSX, release might increase its maximal value\n",
      "  \"increase its maximal value\", RuntimeWarning)\n",
      "/Users/hasegawayuya/anaconda3/envs/kinetics/lib/python2.7/site-packages/joblib/externals/loky/backend/semlock.py:217: RuntimeWarning: semaphore are broken on OSX, release might increase its maximal value\n",
      "  \"increase its maximal value\", RuntimeWarning)\n",
      "/Users/hasegawayuya/anaconda3/envs/kinetics/lib/python2.7/site-packages/joblib/externals/loky/backend/semlock.py:217: RuntimeWarning: semaphore are broken on OSX, release might increase its maximal value\n",
      "  \"increase its maximal value\", RuntimeWarning)\n",
      "/Users/hasegawayuya/anaconda3/envs/kinetics/lib/python2.7/site-packages/joblib/externals/loky/backend/semlock.py:217: RuntimeWarning: semaphore are broken on OSX, release might increase its maximal value\n",
      "  \"increase its maximal value\", RuntimeWarning)\n",
      "/Users/hasegawayuya/anaconda3/envs/kinetics/lib/python2.7/site-packages/joblib/externals/loky/backend/semlock.py:217: RuntimeWarning: semaphore are broken on OSX, release might increase its maximal value\n",
      "  \"increase its maximal value\", RuntimeWarning)\n",
      "/Users/hasegawayuya/anaconda3/envs/kinetics/lib/python2.7/site-packages/joblib/externals/loky/backend/semlock.py:217: RuntimeWarning: semaphore are broken on OSX, release might increase its maximal value\n",
      "  \"increase its maximal value\", RuntimeWarning)\n",
      "/Users/hasegawayuya/anaconda3/envs/kinetics/lib/python2.7/site-packages/joblib/externals/loky/backend/semlock.py:217: RuntimeWarning: semaphore are broken on OSX, release might increase its maximal value\n",
      "  \"increase its maximal value\", RuntimeWarning)\n"
     ]
    }
   ],
   "source": [
    "import os\n",
    "\n",
    "# フォルダ「data」が存在しない場合は作成する\n",
    "data_dir = \"./data/\"\n",
    "if not os.path.exists(data_dir):\n",
    "    os.mkdir(data_dir)\n",
    "    \n",
    "# フォルダ「kinetics_videos」が存在しない場合は作成する\n",
    "data_dir = \"./data/kinetics_videos/\"\n",
    "if not os.path.exists(data_dir):\n",
    "    os.mkdir(data_dir)\n",
    "    \n",
    "    \n",
    "# フォルダ「video_download」のpytnonファイル「download.py」を実行します\n",
    "# 取得するyoutubeデータはフォルダ「video_download」のkinetics-400_val_8videos.csvに記載した8動画です\n",
    "# 保存先はフォルダ「data」内のフォルダ「kinetics_videos」です\n",
    "!python2 ./video_download/download.py ./video_download/kinetics-400_val_8videos.csv ./data/kinetics_videos/\n",
    "    "
   ]
  },
  {
   "cell_type": "markdown",
   "metadata": {},
   "source": [
    "以上"
   ]
  }
 ],
 "metadata": {
  "kernelspec": {
   "display_name": "Python 3",
   "language": "python",
   "name": "python3"
  },
  "language_info": {
   "codemirror_mode": {
    "name": "ipython",
    "version": 3
   },
   "file_extension": ".py",
   "mimetype": "text/x-python",
   "name": "python",
   "nbconvert_exporter": "python",
   "pygments_lexer": "ipython3",
   "version": "3.6.9"
  },
  "toc": {
   "base_numbering": 1,
   "nav_menu": {},
   "number_sections": true,
   "sideBar": true,
   "skip_h1_title": false,
   "title_cell": "Table of Contents",
   "title_sidebar": "Contents",
   "toc_cell": false,
   "toc_position": {},
   "toc_section_display": true,
   "toc_window_display": false
  }
 },
 "nbformat": 4,
 "nbformat_minor": 2
}
