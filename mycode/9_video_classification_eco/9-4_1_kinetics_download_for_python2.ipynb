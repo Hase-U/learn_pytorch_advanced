{
 "cells": [
  {
   "cell_type": "markdown",
   "metadata": {},
   "source": [
    "# 9.4.1 Kinetics動画のダウンロード\n",
    "\n",
    "本ファイルでは、Kinetics動画をダウンロードします。\n"
   ]
  },
  {
   "cell_type": "markdown",
   "metadata": {},
   "source": [
    "## 解説"
   ]
  },
  {
   "cell_type": "markdown",
   "metadata": {},
   "source": [
    "https://github.com/activitynet/ActivityNet/tree/master/Crawler/Kinetics\n",
    "\n",
    "のKineticsの動画ダウンロード環境を利用します。\n",
    "\n",
    "Python2系なので、新しい仮想環境を作成します。\n",
    "今いるディレクトリはUbuntuのhomeです。\n",
    "\n",
    "以下のコマンドをターミナルで実行し、フォルダ「video_download」のファイル「environment.yml」に記載したパッケージをインストールした仮想環境を作成します\n",
    "\n",
    "- source deactivate\n",
    "\n",
    "- conda env create -f ./9_video_classification_eco/video_download/environment.yml\n",
    "\n",
    "作成した仮想環境に入ります\n",
    "\n",
    "- source activate kinetics\n",
    "\n",
    "youtube-dlのパッケージを更新インストールします\n",
    "\n",
    "- pip install --upgrade youtube-dl\n",
    "\n",
    "- pip install --upgrade joblib\n",
    "\n",
    "これで準備ができたので、JupyteNotebookを立ち上げ、本ファイルを実行します\n",
    "\n",
    "- jupyter notebook --port 9999\n"
   ]
  },
  {
   "cell_type": "code",
   "execution_count": 1,
   "metadata": {},
   "outputs": [
    {
     "name": "stdout",
     "output_type": "stream",
     "text": [
      "/Users/yuya.hasegawa/.pyenv/versions/miniconda3-latest/envs/kinetics/lib/python2.7/site-packages/joblib/externals/loky/backend/semlock.py:217: RuntimeWarning: semaphore are broken on OSX, release might increase its maximal value\n",
      "  \"increase its maximal value\", RuntimeWarning)\n",
      "/tmp/kinetics/9af7f695-8bb8-4777-9678-690f8b81bdad.%(ext)s\n",
      "/Users/yuya.hasegawa/.pyenv/versions/miniconda3-latest/envs/kinetics/lib/python2.7/site-packages/joblib/externals/loky/backend/semlock.py:217: RuntimeWarning: semaphore are broken on OSX, release might increase its maximal value\n",
      "  \"increase its maximal value\", RuntimeWarning)\n",
      "/tmp/kinetics/e800c0cb-df50-419a-9f16-edc23d6f6ba6.%(ext)s\n",
      "/Users/yuya.hasegawa/.pyenv/versions/miniconda3-latest/envs/kinetics/lib/python2.7/site-packages/joblib/externals/loky/backend/semlock.py:217: RuntimeWarning: semaphore are broken on OSX, release might increase its maximal value\n",
      "  \"increase its maximal value\", RuntimeWarning)\n",
      "/tmp/kinetics/b7e2ebd5-bdad-48f8-937c-3c7da50bef78.%(ext)s\n",
      "/Users/yuya.hasegawa/.pyenv/versions/miniconda3-latest/envs/kinetics/lib/python2.7/site-packages/joblib/externals/loky/backend/semlock.py:217: RuntimeWarning: semaphore are broken on OSX, release might increase its maximal value\n",
      "  \"increase its maximal value\", RuntimeWarning)\n",
      "/tmp/kinetics/7d84e908-280e-41fd-a684-12bf69cdf47d.%(ext)s\n",
      "/Users/yuya.hasegawa/.pyenv/versions/miniconda3-latest/envs/kinetics/lib/python2.7/site-packages/joblib/externals/loky/backend/semlock.py:217: RuntimeWarning: semaphore are broken on OSX, release might increase its maximal value\n",
      "  \"increase its maximal value\", RuntimeWarning)\n",
      "/tmp/kinetics/9d9a782e-fac1-4524-854f-c038dd73b826.%(ext)s\n",
      "/Users/yuya.hasegawa/.pyenv/versions/miniconda3-latest/envs/kinetics/lib/python2.7/site-packages/joblib/externals/loky/backend/semlock.py:217: RuntimeWarning: semaphore are broken on OSX, release might increase its maximal value\n",
      "  \"increase its maximal value\", RuntimeWarning)\n",
      "/tmp/kinetics/9db40de0-c937-47db-aec6-90e572c01a92.%(ext)s\n",
      "/Users/yuya.hasegawa/.pyenv/versions/miniconda3-latest/envs/kinetics/lib/python2.7/site-packages/joblib/externals/loky/backend/semlock.py:217: RuntimeWarning: semaphore are broken on OSX, release might increase its maximal value\n",
      "  \"increase its maximal value\", RuntimeWarning)\n",
      "/tmp/kinetics/4c3aa17a-e9fc-4a77-bfe3-2f7a842485ec.%(ext)s\n",
      "/Users/yuya.hasegawa/.pyenv/versions/miniconda3-latest/envs/kinetics/lib/python2.7/site-packages/joblib/externals/loky/backend/semlock.py:217: RuntimeWarning: semaphore are broken on OSX, release might increase its maximal value\n",
      "  \"increase its maximal value\", RuntimeWarning)\n",
      "/tmp/kinetics/94f45596-b404-4e4b-81a1-cd489abd68d4.%(ext)s\n",
      "/Users/yuya.hasegawa/.pyenv/versions/miniconda3-latest/envs/kinetics/lib/python2.7/site-packages/joblib/externals/loky/backend/semlock.py:217: RuntimeWarning: semaphore are broken on OSX, release might increase its maximal value\n",
      "  \"increase its maximal value\", RuntimeWarning)\n",
      "/Users/yuya.hasegawa/.pyenv/versions/miniconda3-latest/envs/kinetics/lib/python2.7/site-packages/joblib/externals/loky/backend/semlock.py:217: RuntimeWarning: semaphore are broken on OSX, release might increase its maximal value\n",
      "  \"increase its maximal value\", RuntimeWarning)\n",
      "/Users/yuya.hasegawa/.pyenv/versions/miniconda3-latest/envs/kinetics/lib/python2.7/site-packages/joblib/externals/loky/backend/semlock.py:217: RuntimeWarning: semaphore are broken on OSX, release might increase its maximal value\n",
      "  \"increase its maximal value\", RuntimeWarning)\n",
      "/Users/yuya.hasegawa/.pyenv/versions/miniconda3-latest/envs/kinetics/lib/python2.7/site-packages/joblib/externals/loky/backend/semlock.py:217: RuntimeWarning: semaphore are broken on OSX, release might increase its maximal value\n",
      "  \"increase its maximal value\", RuntimeWarning)\n",
      "/Users/yuya.hasegawa/.pyenv/versions/miniconda3-latest/envs/kinetics/lib/python2.7/site-packages/joblib/externals/loky/backend/semlock.py:217: RuntimeWarning: semaphore are broken on OSX, release might increase its maximal value\n",
      "  \"increase its maximal value\", RuntimeWarning)\n",
      "/Users/yuya.hasegawa/.pyenv/versions/miniconda3-latest/envs/kinetics/lib/python2.7/site-packages/joblib/externals/loky/backend/semlock.py:217: RuntimeWarning: semaphore are broken on OSX, release might increase its maximal value\n",
      "  \"increase its maximal value\", RuntimeWarning)\n",
      "/Users/yuya.hasegawa/.pyenv/versions/miniconda3-latest/envs/kinetics/lib/python2.7/site-packages/joblib/externals/loky/backend/semlock.py:217: RuntimeWarning: semaphore are broken on OSX, release might increase its maximal value\n",
      "  \"increase its maximal value\", RuntimeWarning)\n",
      "/Users/yuya.hasegawa/.pyenv/versions/miniconda3-latest/envs/kinetics/lib/python2.7/site-packages/joblib/externals/loky/backend/semlock.py:217: RuntimeWarning: semaphore are broken on OSX, release might increase its maximal value\n",
      "  \"increase its maximal value\", RuntimeWarning)\n",
      "/Users/yuya.hasegawa/.pyenv/versions/miniconda3-latest/envs/kinetics/lib/python2.7/site-packages/joblib/externals/loky/backend/semlock.py:217: RuntimeWarning: semaphore are broken on OSX, release might increase its maximal value\n",
      "  \"increase its maximal value\", RuntimeWarning)\n",
      "/Users/yuya.hasegawa/.pyenv/versions/miniconda3-latest/envs/kinetics/lib/python2.7/site-packages/joblib/externals/loky/backend/semlock.py:217: RuntimeWarning: semaphore are broken on OSX, release might increase its maximal value\n",
      "  \"increase its maximal value\", RuntimeWarning)\n",
      "/Users/yuya.hasegawa/.pyenv/versions/miniconda3-latest/envs/kinetics/lib/python2.7/site-packages/joblib/externals/loky/backend/semlock.py:217: RuntimeWarning: semaphore are broken on OSX, release might increase its maximal value\n",
      "  \"increase its maximal value\", RuntimeWarning)\n",
      "/Users/yuya.hasegawa/.pyenv/versions/miniconda3-latest/envs/kinetics/lib/python2.7/site-packages/joblib/externals/loky/backend/semlock.py:217: RuntimeWarning: semaphore are broken on OSX, release might increase its maximal value\n",
      "  \"increase its maximal value\", RuntimeWarning)\n",
      "/Users/yuya.hasegawa/.pyenv/versions/miniconda3-latest/envs/kinetics/lib/python2.7/site-packages/joblib/externals/loky/backend/semlock.py:217: RuntimeWarning: semaphore are broken on OSX, release might increase its maximal value\n",
      "  \"increase its maximal value\", RuntimeWarning)\n",
      "/Users/yuya.hasegawa/.pyenv/versions/miniconda3-latest/envs/kinetics/lib/python2.7/site-packages/joblib/externals/loky/backend/semlock.py:217: RuntimeWarning: semaphore are broken on OSX, release might increase its maximal value\n",
      "  \"increase its maximal value\", RuntimeWarning)\n",
      "/Users/yuya.hasegawa/.pyenv/versions/miniconda3-latest/envs/kinetics/lib/python2.7/site-packages/joblib/externals/loky/backend/semlock.py:217: RuntimeWarning: semaphore are broken on OSX, release might increase its maximal value\n",
      "  \"increase its maximal value\", RuntimeWarning)\n",
      "/Users/yuya.hasegawa/.pyenv/versions/miniconda3-latest/envs/kinetics/lib/python2.7/site-packages/joblib/externals/loky/backend/semlock.py:217: RuntimeWarning: semaphore are broken on OSX, release might increase its maximal value\n",
      "  \"increase its maximal value\", RuntimeWarning)\n"
     ]
    }
   ],
   "source": [
    "import os\n",
    "\n",
    "# フォルダ「data」が存在しない場合は作成する\n",
    "data_dir = \"./data/\"\n",
    "if not os.path.exists(data_dir):\n",
    "    os.mkdir(data_dir)\n",
    "    \n",
    "# フォルダ「kinetics_videos」が存在しない場合は作成する\n",
    "data_dir = \"./data/kinetics_videos/\"\n",
    "if not os.path.exists(data_dir):\n",
    "    os.mkdir(data_dir)\n",
    "    \n",
    "    \n",
    "# フォルダ「video_download」のpytnonファイル「download.py」を実行します\n",
    "# 取得するyoutubeデータはフォルダ「video_download」のkinetics-400_val_8videos.csvに記載した8動画です\n",
    "# 保存先はフォルダ「data」内のフォルダ「kinetics_videos」です\n",
    "!python2 ./video_download/download.py ./video_download/kinetics-400_val_8videos.csv ./data/kinetics_videos/\n",
    "    "
   ]
  },
  {
   "cell_type": "markdown",
   "metadata": {},
   "source": [
    "以上"
   ]
  }
 ],
 "metadata": {
  "kernelspec": {
   "display_name": "Python 2",
   "language": "python",
   "name": "python2"
  },
  "language_info": {
   "codemirror_mode": {
    "name": "ipython",
    "version": 2
   },
   "file_extension": ".py",
   "mimetype": "text/x-python",
   "name": "python",
   "nbconvert_exporter": "python",
   "pygments_lexer": "ipython2",
   "version": "2.7.13"
  },
  "toc": {
   "base_numbering": 1,
   "nav_menu": {},
   "number_sections": true,
   "sideBar": true,
   "skip_h1_title": false,
   "title_cell": "Table of Contents",
   "title_sidebar": "Contents",
   "toc_cell": false,
   "toc_position": {},
   "toc_section_display": true,
   "toc_window_display": false
  }
 },
 "nbformat": 4,
 "nbformat_minor": 2
}
