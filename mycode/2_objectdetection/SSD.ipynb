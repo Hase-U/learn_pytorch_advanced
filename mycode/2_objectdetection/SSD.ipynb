{
  "nbformat": 4,
  "nbformat_minor": 0,
  "metadata": {
    "colab": {
      "name": "SSD.ipynb",
      "provenance": [],
      "private_outputs": true,
      "authorship_tag": "ABX9TyO3xbf9aWB1L9QbPzkXxbua",
      "include_colab_link": true
    },
    "kernelspec": {
      "name": "python3",
      "display_name": "Python 3"
    },
    "accelerator": "GPU"
  },
  "cells": [
    {
      "cell_type": "markdown",
      "metadata": {
        "id": "view-in-github",
        "colab_type": "text"
      },
      "source": [
        "<a href=\"https://colab.research.google.com/github/Hase-U/learn_pytorch_advanced/blob/master/mycode/2_objectdetection/SSD.ipynb\" target=\"_parent\"><img src=\"https://colab.research.google.com/assets/colab-badge.svg\" alt=\"Open In Colab\"/></a>"
      ]
    },
    {
      "cell_type": "code",
      "metadata": {
        "id": "7xI4ByKytPGx",
        "colab_type": "code",
        "colab": {}
      },
      "source": [
        "x = 1"
      ],
      "execution_count": 0,
      "outputs": []
    },
    {
      "cell_type": "markdown",
      "metadata": {
        "id": "JrTttss3fI8W",
        "colab_type": "text"
      },
      "source": [
        "# 物体検出\n",
        "commit用\n",
        "\n",
        "```mycode/2_objectdetection/```\n",
        "\n",
        "## 2-1物体検出とは"
      ]
    },
    {
      "cell_type": "code",
      "metadata": {
        "id": "f3CrBpElfXOY",
        "colab_type": "code",
        "colab": {}
      },
      "source": [
        ""
      ],
      "execution_count": 0,
      "outputs": []
    }
  ]
}