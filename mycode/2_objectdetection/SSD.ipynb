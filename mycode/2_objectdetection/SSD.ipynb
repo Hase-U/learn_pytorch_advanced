{
  "nbformat": 4,
  "nbformat_minor": 0,
  "metadata": {
    "colab": {
      "name": "SSD.ipynb",
      "provenance": [],
      "private_outputs": true,
      "collapsed_sections": [],
      "toc_visible": true,
      "authorship_tag": "ABX9TyPF7eq3WwEnPT0YeY9KyITC",
      "include_colab_link": true
    },
    "kernelspec": {
      "name": "python3",
      "display_name": "Python 3"
    },
    "accelerator": "GPU"
  },
  "cells": [
    {
      "cell_type": "markdown",
      "metadata": {
        "id": "view-in-github",
        "colab_type": "text"
      },
      "source": [
        "<a href=\"https://colab.research.google.com/github/Hase-U/learn_pytorch_advanced/blob/master/mycode/2_objectdetection/SSD.ipynb\" target=\"_parent\"><img src=\"https://colab.research.google.com/assets/colab-badge.svg\" alt=\"Open In Colab\"/></a>"
      ]
    },
    {
      "cell_type": "markdown",
      "metadata": {
        "id": "JrTttss3fI8W",
        "colab_type": "text"
      },
      "source": [
        "# 物体検出\n",
        "commit用\n",
        "\n",
        "```mycode/2_objectdetection/```\n",
        "\n",
        "## 2-1物体検出とは\n",
        "**バウンディングボックス(bounding box)：**物体の位置を表す枠\n",
        "\n",
        "インプット：画像\n",
        "\n",
        "アウトプット：\n",
        "- 画像のどこに物体が存在するかを示すバウンディングボックスの位置と大きさ情報\n",
        "- 各バウンディングボックスに何が写っているか\n",
        "- その検出に対する確信度\n",
        "\n"
      ]
    },
    {
      "cell_type": "markdown",
      "metadata": {
        "id": "2FbWJKDTpM06",
        "colab_type": "text"
      },
      "source": [
        "### SSDの流れ\n",
        "デフォルトボックスの数がN, クラスが背景を入れてO+1の場合\n",
        "1. 画像のリサイズ\n",
        "2. デフォルトボックスを準備(N個)\n",
        "3. 画像をSSDネットワークに入力(出力 N$\\times$(O+1+4(オフセット)))\n",
        "4. 信頼度上位のデフォルトボックスを抽出\n",
        "5. オフセット情報による修正と被りの除去\n",
        "6. 閾値を超える信頼度のもののみを最終出力にする"
      ]
    },
    {
      "cell_type": "markdown",
      "metadata": {
        "id": "hXk6MwgJsWWM",
        "colab_type": "text"
      },
      "source": [
        "## 2-2 Datasetの実装\n",
        "データセットがめちゃ大きくてダウンロードに15分毎回かかるから他にいい方法がないか以下を試した\n",
        "- ```!wget```して解凍\n",
        "- ファイルをアップロード\n",
        "- Google drive でマウント\n",
        "\n",
        "多分```!wget```を毎回するのが一番早いと思われ"
      ]
    },
    {
      "cell_type": "code",
      "metadata": {
        "id": "f3CrBpElfXOY",
        "colab_type": "code",
        "colab": {}
      },
      "source": [
        "!wget http://host.robots.ox.ac.uk/pascal/VOC/voc2012/VOCtrainval_11-May-2012.tar\n",
        "!tar xf VOCtrainval_11-May-2012.tar"
      ],
      "execution_count": 0,
      "outputs": []
    },
    {
      "cell_type": "code",
      "metadata": {
        "id": "FTbLdJ2lwb1v",
        "colab_type": "code",
        "colab": {}
      },
      "source": [
        "!ls"
      ],
      "execution_count": 0,
      "outputs": []
    },
    {
      "cell_type": "code",
      "metadata": {
        "id": "V9_UqTCYF1_n",
        "colab_type": "code",
        "colab": {}
      },
      "source": [
        "from google.colab import drive\n",
        "drive.mount('/content/drive')"
      ],
      "execution_count": 0,
      "outputs": []
    },
    {
      "cell_type": "code",
      "metadata": {
        "id": "jFlCDsGXF3db",
        "colab_type": "code",
        "colab": {}
      },
      "source": [
        ""
      ],
      "execution_count": 0,
      "outputs": []
    }
  ]
}